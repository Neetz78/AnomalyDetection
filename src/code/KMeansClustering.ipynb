{
 "cells": [
  {
   "cell_type": "markdown",
   "id": "95594892-5ce1-42c6-a9e3-a48ccb72b76b",
   "metadata": {},
   "source": [
    "# **Kmeans Clustering Notebook Description**\n",
    "\n",
    "Description: This notebook gives an example of running KMeans with euclidean distance to cluster waveforms. It also demonstrates using functions to describe the characteristics of the waveforms. "
   ]
  },
  {
   "cell_type": "markdown",
   "id": "aaf95ee4-d822-4be8-90a7-529d449991a2",
   "metadata": {},
   "source": [
    "## **Imports**"
   ]
  },
  {
   "cell_type": "code",
   "execution_count": null,
   "id": "134b38f5-c4e3-4abd-8a44-b81006f7805e",
   "metadata": {},
   "outputs": [],
   "source": [
    "from tslearn.clustering import KShape, TimeSeriesKMeans, silhouette_score\n",
    "from tslearn.preprocessing import TimeSeriesScalerMeanVariance\n",
    "import matplotlib.pyplot as plt\n",
    "import numpy as np\n",
    "import pandas as pd\n",
    "\n",
    "%matplotlib inline \n",
    "\n",
    "# Import the in house diagnostic functios\n",
    "from diagnostics import *"
   ]
  },
  {
   "cell_type": "markdown",
   "id": "5895a12c-8284-4baa-aa69-6e2d1f1f76a6",
   "metadata": {},
   "source": [
    "## **Read in the preprocessed data that is to be clustered**"
   ]
  },
  {
   "cell_type": "code",
   "execution_count": null,
   "id": "1cde2ce0-d8c9-43c6-a01c-c5ccfc6122ab",
   "metadata": {},
   "outputs": [],
   "source": [
    "# Read in all the preprocessed time series. \n",
    "ecd_ts = pd.read_csv('../Data/PreprocessedData/TimeSeries/ecd_smooth.csv')\n",
    "syn_ts= pd.read_csv('../Data/PreprocessedData/TimeSeries/syn_smooth.csv')\n",
    "cont_ts= pd.read_csv('../Data/PreprocessedData/TimeSeries/cont_smooth.csv')\n",
    "un_ts= pd.read_csv('../Data/PreprocessedData/TimeSeries/un_smooth.csv')\n",
    "\n",
    "# Make a new data frame with all of the different kinds of ECDs. \n",
    "allecd_ts = pd.concat([ecd_ts, cont_ts, syn_ts])\n",
    "all_ts = pd.concat([un_ts, allecd_ts])\n",
    "\n",
    "# Read in the aggregate predictor files\n",
    "un_pred =  pd.read_csv('../Data/PreprocessedData/Predictors/Unsuccessful.csv')\n",
    "ecd_pred =  pd.read_csv('../Data/PreprocessedData/Predictors/ECD.csv')\n",
    "syn_pred =  pd.read_csv('../Data/RawData/Predictors/SyntheticECD.csv')\n",
    "con_pred =  pd.read_csv('../Data/RawData/Predictors/ECDAggContaminated.csv')\n",
    "\n",
    "# Make a new data frame with all of the predictors. \n",
    "all_preds = pd.concat([un_pred, ecd_pred, syn_pred, con_pred])\n",
    "# Rename TestID to TestId to match the time series data. \n",
    "all_preds = all_preds.rename({'TestID':'TestId'}, axis = 1)"
   ]
  },
  {
   "cell_type": "markdown",
   "id": "dce2a6da-14c1-4253-9814-864eef507343",
   "metadata": {},
   "source": [
    "Save the test ids for later use. "
   ]
  },
  {
   "cell_type": "code",
   "execution_count": null,
   "id": "b6f44ad6-ac00-4dfb-839d-d94590ca9300",
   "metadata": {},
   "outputs": [],
   "source": [
    "ECDids = allecd_ts['TestId']\n",
    "unids = un_ts['TestId']"
   ]
  },
  {
   "cell_type": "markdown",
   "id": "b2f45ffd-a679-4c74-838d-ee697df00860",
   "metadata": {},
   "source": [
    "Create the labels for the different kinds of readings and store them for future use. "
   ]
  },
  {
   "cell_type": "code",
   "execution_count": null,
   "id": "74d7a6e6-3e83-4c55-a89a-a02e14ff4737",
   "metadata": {},
   "outputs": [],
   "source": [
    "# Create the labels. \n",
    "un_lab = pd.Series(['un']).repeat(len(un_ts))\n",
    "ECD_lab = pd.Series(['ECD']).repeat(len(allecd_ts))\n",
    "wild_lab = pd.Series(['wild']).repeat(len(ecd_ts))\n",
    "cont_lab = pd.Series(['cont']).repeat(len(cont_ts))\n",
    "syn_lab = pd.Series(['synth']).repeat(len(syn_ts))\n",
    "\n",
    "# Store labels for all the categories (ECD, cont, syn, and un)\n",
    "labs = pd.concat([un_lab, wild_lab, cont_lab, syn_lab]).reset_index(drop = True)\n",
    "                                      \n",
    "all_ts.reset_index(drop = True, inplace = True)\n",
    "ids = all_ts['TestId']\n",
    "#all_ts = all_ts.drop('TestId', axis = 1)"
   ]
  },
  {
   "cell_type": "markdown",
   "id": "72ac8410-d75c-4168-9127-23553d8060d5",
   "metadata": {},
   "source": [
    "Add in the CMean, PMean, and SMean as additional predictors"
   ]
  },
  {
   "cell_type": "code",
   "execution_count": null,
   "id": "91935b2d-da4a-41b9-8f1c-91e53818c273",
   "metadata": {},
   "outputs": [],
   "source": [
    "preds_subset = all_preds[['TestId','AggPred1', 'AggPred2', 'AggPred3']]"
   ]
  },
  {
   "cell_type": "code",
   "execution_count": null,
   "id": "c132eb05-4db2-43bb-9b10-52809b9d2e6c",
   "metadata": {},
   "outputs": [],
   "source": [
    "all_ts_and_preds = all_ts.merge(preds_subset, on = 'TestId', how = 'left')\n",
    "all_ts_and_preds = all_ts_and_preds.drop('TestId', axis = 1)"
   ]
  },
  {
   "cell_type": "markdown",
   "id": "0e850b2c-4c3c-4e38-a59c-7c94790ad98e",
   "metadata": {},
   "source": [
    "## **Run KMeans Clustering**"
   ]
  },
  {
   "cell_type": "code",
   "execution_count": null,
   "id": "f1292d5b-23db-49ad-9cdd-d8b71b73e324",
   "metadata": {},
   "outputs": [],
   "source": [
    "# For this method to operate properly, prior scaling is required\n",
    "X_train = TimeSeriesScalerMeanVariance().fit_transform(all_ts_and_preds)\n",
    "sz = X_train.shape[1]\n",
    "\n",
    "\n",
    "# kShape clustering\n",
    "ks = TimeSeriesKMeans(n_clusters=20, verbose=True, random_state=0, metric = 'euclidean', n_jobs = -1)\n",
    "y_pred = ks.fit_predict(X_train)"
   ]
  },
  {
   "cell_type": "markdown",
   "id": "52cc9181-b0b9-4c61-9dbb-aa3cbf531f94",
   "metadata": {},
   "source": [
    "##  **Do some diagnostics**"
   ]
  },
  {
   "cell_type": "code",
   "execution_count": null,
   "id": "4b8578c4-6d11-4736-95a1-f0a33cf1fba9",
   "metadata": {
    "scrolled": true,
    "tags": []
   },
   "outputs": [],
   "source": [
    "ts_pred = prepare_data(all_ts, all_preds, clusters = y_pred, labels = labs)\n",
    "describe_clusters(ts_pred, ['ReturnCode', 'AggPred1', 'AggPred2', 'AggPred3'], start = -30, end = 39.8)"
   ]
  },
  {
   "cell_type": "markdown",
   "id": "dddce9b7-a169-4beb-92da-8007e4c8b676",
   "metadata": {},
   "source": [
    "Let's say we're interested in how clusters 5 and 6 differ in terms of CMean, SMean, and PMean. We can use the `compare_cluster_densities()` fuction from the diagnostics script to compare the densities of these predictors for these two clusters."
   ]
  },
  {
   "cell_type": "code",
   "execution_count": null,
   "id": "08557aa6-3afe-4b83-916a-a58619986cbd",
   "metadata": {},
   "outputs": [],
   "source": [
    "compare_cluster_densities(ts_pred, clust1 = 5, clust2 = 6, \n",
    "                          feature_list = ['AggPred1', 'AggPred2', 'AggPred3'], clust_col = 'Cluster')"
   ]
  }
 ],
 "metadata": {
  "kernelspec": {
   "display_name": "Python 3 (ipykernel)",
   "language": "python",
   "name": "python3"
  },
  "language_info": {
   "codemirror_mode": {
    "name": "ipython",
    "version": 3
   },
   "file_extension": ".py",
   "mimetype": "text/x-python",
   "name": "python",
   "nbconvert_exporter": "python",
   "pygments_lexer": "ipython3",
   "version": "3.9.9"
  }
 },
 "nbformat": 4,
 "nbformat_minor": 5
}
