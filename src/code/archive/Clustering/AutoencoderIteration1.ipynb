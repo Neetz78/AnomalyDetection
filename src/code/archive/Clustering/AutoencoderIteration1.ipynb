{
 "cells": [
  {
   "cell_type": "markdown",
   "id": "28b67724",
   "metadata": {},
   "source": [
    "### Autoencoder "
   ]
  },
  {
   "cell_type": "markdown",
   "id": "8f68a16a",
   "metadata": {},
   "source": [
    "This notebook contains the intital run of the autoencoder to extract features from raw time series data and clustering performed using various techniques such as Agglomerative clustering,KMeans and Gaussian Mixture Model"
   ]
  },
  {
   "cell_type": "code",
   "execution_count": null,
   "id": "fab94847",
   "metadata": {},
   "outputs": [],
   "source": [
    "import pandas as pd\n",
    "import numpy as np\n",
    "import matplotlib.pyplot as plt\n",
    "import seaborn as sns\n",
    "import os\n",
    "os.environ['KMP_DUPLICATE_LIB_OK']='True'\n",
    "\n",
    "from numpy.random import seed\n",
    "from sklearn.preprocessing import minmax_scale\n",
    "from sklearn.model_selection import train_test_split\n",
    "from keras.layers import Input, Dense\n",
    "from keras.models import Model"
   ]
  },
  {
   "cell_type": "code",
   "execution_count": null,
   "id": "f906a23b",
   "metadata": {},
   "outputs": [],
   "source": [
    "un_pos = pd.read_csv(\"/Users/neethug/Desktop/Neethu/Course/DATA599/Project/finaldata/Windowed Time Series/un_cal.csv\")\n",
    "ECD_pos = pd.read_csv(\"/Users/neethug/Desktop/Neethu/Course/DATA599/Project/finaldata/Windowed Time Series/ECD_cal.csv\")\n",
    "#syn_pos = pd.read_csv(\"/Users/neethug/Desktop/Neethu/Course/DATA599/Project/finaldata/Windowed Time Series/syn_post.csv\")"
   ]
  },
  {
   "cell_type": "code",
   "execution_count": null,
   "id": "aede21cc",
   "metadata": {},
   "outputs": [],
   "source": [
    "un_pos['Label'] = \"Unsuccessful\""
   ]
  },
  {
   "cell_type": "code",
   "execution_count": null,
   "id": "753a0e15",
   "metadata": {},
   "outputs": [],
   "source": [
    "ECD_pos['Label'] =\"ECDcontacts\""
   ]
  },
  {
   "cell_type": "code",
   "execution_count": null,
   "id": "35fa10b5",
   "metadata": {},
   "outputs": [],
   "source": [
    "data = pd.concat([un_pos,ECD_pos])"
   ]
  },
  {
   "cell_type": "code",
   "execution_count": null,
   "id": "032678d9",
   "metadata": {},
   "outputs": [],
   "source": [
    "data"
   ]
  },
  {
   "cell_type": "code",
   "execution_count": null,
   "id": "d7b3a86b",
   "metadata": {},
   "outputs": [],
   "source": [
    "data = data.reset_index()"
   ]
  },
  {
   "cell_type": "code",
   "execution_count": null,
   "id": "d36d0e1e",
   "metadata": {},
   "outputs": [],
   "source": [
    "data.drop('index', axis=1, inplace=True)"
   ]
  },
  {
   "cell_type": "code",
   "execution_count": null,
   "id": "3670e6cd",
   "metadata": {},
   "outputs": [],
   "source": [
    "### Autoencoders for dimensionality reduction"
   ]
  },
  {
   "cell_type": "markdown",
   "id": "648a49aa",
   "metadata": {},
   "source": [
    "DropECDg TestID and Label column from the dataset"
   ]
  },
  {
   "cell_type": "code",
   "execution_count": null,
   "id": "dd2c8f3e",
   "metadata": {},
   "outputs": [],
   "source": [
    "X = data.iloc[:,1:-1]"
   ]
  },
  {
   "cell_type": "code",
   "execution_count": null,
   "id": "ad7bf696",
   "metadata": {},
   "outputs": [],
   "source": [
    "Y = data.iloc[:,-1]"
   ]
  },
  {
   "cell_type": "markdown",
   "id": "f0f3bd00",
   "metadata": {},
   "source": [
    "Printing the dimensions"
   ]
  },
  {
   "cell_type": "code",
   "execution_count": null,
   "id": "8423674c",
   "metadata": {},
   "outputs": [],
   "source": [
    "print('Data shape', X.shape)"
   ]
  },
  {
   "cell_type": "markdown",
   "id": "8a87b521",
   "metadata": {},
   "source": [
    "Scaling the data for Neural network"
   ]
  },
  {
   "cell_type": "code",
   "execution_count": null,
   "id": "8fe47bc7",
   "metadata": {},
   "outputs": [],
   "source": [
    "from sklearn.model_selection import train_test_split\n",
    "\n",
    "X_train, X_test, Y_train, Y_test = train_test_split(X, Y, test_size=0.2, random_state=42, shuffle = True)"
   ]
  },
  {
   "cell_type": "markdown",
   "id": "41f79e4e",
   "metadata": {},
   "source": [
    "# Desiging an autoencoder"
   ]
  },
  {
   "cell_type": "markdown",
   "id": "36fdf08c",
   "metadata": {},
   "source": [
    "Auto Encoders are is a type of artificial neural network used to learn efficient data patterns in an unsupervised manner. An Auto Encoder ideally consists of an encoder and decoder."
   ]
  },
  {
   "cell_type": "code",
   "execution_count": null,
   "id": "37e2557f",
   "metadata": {},
   "outputs": [],
   "source": [
    "##defining the number of features\n",
    "\n",
    "n_col = X.shape[1]"
   ]
  },
  {
   "cell_type": "code",
   "execution_count": null,
   "id": "1e460407",
   "metadata": {},
   "outputs": [],
   "source": [
    "## defining encoding dimensions\n",
    "\n",
    "encoding_dim = 50"
   ]
  },
  {
   "cell_type": "code",
   "execution_count": null,
   "id": "93e0ae27",
   "metadata": {},
   "outputs": [],
   "source": [
    "input_dim = Input(shape = (n_col, ))\n",
    "\n",
    "# Encoder Layers\n",
    "encoded1 = Dense(3000, activation = 'relu')(input_dim)\n",
    "encoded2 = Dense(2750, activation = 'relu')(encoded1)\n",
    "encoded3 = Dense(2500, activation = 'relu')(encoded2)\n",
    "encoded4 = Dense(2250, activation = 'relu')(encoded3)\n",
    "encoded5 = Dense(2000, activation = 'relu')(encoded4)\n",
    "encoded6 = Dense(1750, activation = 'relu')(encoded5)\n",
    "encoded7 = Dense(1500, activation = 'relu')(encoded6)\n",
    "encoded8 = Dense(1250, activation = 'relu')(encoded7)\n",
    "encoded9 = Dense(1000, activation = 'relu')(encoded8)\n",
    "encoded10 = Dense(750, activation = 'relu')(encoded9)\n",
    "encoded11 = Dense(500, activation = 'relu')(encoded10)\n",
    "encoded12 = Dense(250, activation = 'relu')(encoded11)\n",
    "encoded13 = Dense(encoding_dim, activation = 'relu')(encoded12)\n",
    "\n",
    "# Decoder Layers\n",
    "decoded1 = Dense(250, activation = 'relu')(encoded13)\n",
    "decoded2 = Dense(500, activation = 'relu')(decoded1)\n",
    "decoded3 = Dense(750, activation = 'relu')(decoded2)\n",
    "decoded4 = Dense(1000, activation = 'relu')(decoded3)\n",
    "decoded5 = Dense(1250, activation = 'relu')(decoded4)\n",
    "decoded6 = Dense(1500, activation = 'relu')(decoded5)\n",
    "decoded7 = Dense(1750, activation = 'relu')(decoded6)\n",
    "decoded8 = Dense(2000, activation = 'relu')(decoded7)\n",
    "decoded9 = Dense(2250, activation = 'relu')(decoded8)\n",
    "decoded10 = Dense(2500, activation = 'relu')(decoded9)\n",
    "decoded11 = Dense(2750, activation = 'relu')(decoded10)\n",
    "decoded12 = Dense(3000, activation = 'relu')(decoded11)\n",
    "decoded13 = Dense(n_col, activation = 'sigmoid')(decoded12)"
   ]
  },
  {
   "cell_type": "code",
   "execution_count": null,
   "id": "1379d0b1",
   "metadata": {},
   "outputs": [],
   "source": [
    "# Combine Encoder and Deocder layers\n",
    "autoencoder = Model(inputs = input_dim, outputs = decoded13)"
   ]
  },
  {
   "cell_type": "code",
   "execution_count": null,
   "id": "f36aeb69",
   "metadata": {},
   "outputs": [],
   "source": [
    "# Compile the Model\n",
    "autoencoder.compile(optimizer = 'adadelta', loss = 'binary_crossentropy')"
   ]
  },
  {
   "cell_type": "code",
   "execution_count": null,
   "id": "dac844b8",
   "metadata": {},
   "outputs": [],
   "source": [
    "autoencoder.summary()"
   ]
  },
  {
   "cell_type": "code",
   "execution_count": null,
   "id": "3c8c349f",
   "metadata": {},
   "outputs": [],
   "source": [
    "autoencoder.fit(X_train, X_train, epochs = 10, batch_size = 32, shuffle = False, validation_data = (X_test, X_test))"
   ]
  },
  {
   "cell_type": "code",
   "execution_count": null,
   "id": "0d02c7b5",
   "metadata": {},
   "outputs": [],
   "source": [
    "encoder = Model(inputs = input_dim, outputs = encoded13)\n",
    "encoded_input = Input(shape = (encoding_dim, ))"
   ]
  },
  {
   "cell_type": "code",
   "execution_count": null,
   "id": "1b437ff9",
   "metadata": {},
   "outputs": [],
   "source": [
    "encoded_train = pd.DataFrame(encoder.predict(X))\n",
    "encoded_train = encoded_train.add_prefix('feature_')\n"
   ]
  },
  {
   "cell_type": "code",
   "execution_count": null,
   "id": "09392e95",
   "metadata": {},
   "outputs": [],
   "source": [
    "encoded_train['target'] = Y"
   ]
  },
  {
   "cell_type": "code",
   "execution_count": null,
   "id": "fc947ec9",
   "metadata": {},
   "outputs": [],
   "source": [
    "encoded_train"
   ]
  },
  {
   "cell_type": "code",
   "execution_count": null,
   "id": "0e60f7a4",
   "metadata": {},
   "outputs": [],
   "source": [
    "encoded_train.isnull().sum(axis=1).sum()"
   ]
  },
  {
   "cell_type": "code",
   "execution_count": null,
   "id": "33702a1e",
   "metadata": {},
   "outputs": [],
   "source": [
    "(encoded_train == 0).all()"
   ]
  },
  {
   "cell_type": "code",
   "execution_count": null,
   "id": "589c2a96",
   "metadata": {},
   "outputs": [],
   "source": [
    "data_without_zero_features = encoded_train.loc[:, (encoded_train != 0).any(axis=0)]"
   ]
  },
  {
   "cell_type": "code",
   "execution_count": null,
   "id": "d9836edf",
   "metadata": {},
   "outputs": [],
   "source": [
    "data_without_zero_features"
   ]
  },
  {
   "cell_type": "markdown",
   "id": "814e1cc6-b561-4b1a-bbfc-4b5a49bc25a4",
   "metadata": {},
   "source": [
    "# Clustering"
   ]
  },
  {
   "cell_type": "code",
   "execution_count": null,
   "id": "3baa09c7",
   "metadata": {},
   "outputs": [],
   "source": [
    "from sklearn.cluster import AgglomerativeClustering\n",
    "import scipy.cluster.hierarchy as shc"
   ]
  },
  {
   "cell_type": "code",
   "execution_count": null,
   "id": "412a3564",
   "metadata": {},
   "outputs": [],
   "source": [
    "plt.figure(figsize =(6, 6)) \n",
    "plt.title('Visualising the data') \n",
    "Dendrogram = shc.dendrogram((shc.linkage(data_without_zero_features.iloc[:,:-1], method ='ward')))"
   ]
  },
  {
   "cell_type": "code",
   "execution_count": null,
   "id": "04f7b898",
   "metadata": {},
   "outputs": [],
   "source": [
    "cluster = AgglomerativeClustering(n_clusters=2, affinity='euclidean', linkage='ward')\n",
    "y = cluster.fit_predict(data_without_zero_features.iloc[:,:-1])"
   ]
  },
  {
   "cell_type": "code",
   "execution_count": null,
   "id": "d7203e9f",
   "metadata": {},
   "outputs": [],
   "source": [
    "data_without_zero_features['cluster'] = y"
   ]
  },
  {
   "cell_type": "code",
   "execution_count": null,
   "id": "f3e2f02c",
   "metadata": {},
   "outputs": [],
   "source": [
    "data_without_zero_features[data_without_zero_features['cluster'] == 0]['target'].value_counts()"
   ]
  },
  {
   "cell_type": "code",
   "execution_count": null,
   "id": "7f0280ab",
   "metadata": {},
   "outputs": [],
   "source": [
    "import altair as alt\n",
    "alt.data_transformers.disable_max_rows()\n",
    "\n",
    "alt.Chart(data_without_zero_features).mark_circle(size=60).encode(\n",
    "    x='feature_0',\n",
    "    y='feature_1',\n",
    "    color =\"target\"\n",
    ")"
   ]
  },
  {
   "cell_type": "markdown",
   "id": "e716d2ce-773c-4505-af9e-6720750a22fb",
   "metadata": {},
   "source": [
    "## Applying ECDA on these extracted features "
   ]
  },
  {
   "cell_type": "code",
   "execution_count": null,
   "id": "b001bbf0",
   "metadata": {},
   "outputs": [],
   "source": [
    "X = data_without_zero_features.iloc[:,:-1]"
   ]
  },
  {
   "cell_type": "code",
   "execution_count": null,
   "id": "8ec41a35",
   "metadata": {},
   "outputs": [],
   "source": [
    "from sklearn.preprocessing import StandardScaler\n",
    "\n",
    "sc = StandardScaler()\n",
    "X_std = sc.fit_transform(X)"
   ]
  },
  {
   "cell_type": "code",
   "execution_count": null,
   "id": "977f53a6",
   "metadata": {},
   "outputs": [],
   "source": [
    "X_std"
   ]
  },
  {
   "cell_type": "code",
   "execution_count": null,
   "id": "cda81994",
   "metadata": {},
   "outputs": [],
   "source": [
    "from sklearn.decomposition import ECDA\n",
    "from sklearn.preprocessing import scale\n",
    "\n",
    "\n",
    "ECDa = ECDA().fit(X)\n",
    "plt.plot(np.cumsum(ECDa.explained_variance_ratio_))\n",
    "plt.xlim(0,20,1)\n",
    "plt.xlabel('Number of components')\n",
    "plt.ylabel('Cumulative explained variance')"
   ]
  },
  {
   "cell_type": "code",
   "execution_count": null,
   "id": "7691df98",
   "metadata": {},
   "outputs": [],
   "source": [
    "ECDa = ECDA(n_components=0.95)\n",
    "ECD = ECDa.fit_transform(X)"
   ]
  },
  {
   "cell_type": "code",
   "execution_count": null,
   "id": "41b2c73e",
   "metadata": {},
   "outputs": [],
   "source": [
    "component_names = [f\"ECD{i+1}\" for i in range(ECD.shape[1])]"
   ]
  },
  {
   "cell_type": "code",
   "execution_count": null,
   "id": "d691fae1",
   "metadata": {},
   "outputs": [],
   "source": [
    "newdata = pd.DataFrame(ECD, columns=component_names)"
   ]
  },
  {
   "cell_type": "code",
   "execution_count": null,
   "id": "5004f513",
   "metadata": {},
   "outputs": [],
   "source": [
    "newdata"
   ]
  },
  {
   "cell_type": "code",
   "execution_count": null,
   "id": "0e6e2567",
   "metadata": {},
   "outputs": [],
   "source": [
    "newdata['Label'] = Y"
   ]
  },
  {
   "cell_type": "code",
   "execution_count": null,
   "id": "edb6fcb0",
   "metadata": {},
   "outputs": [],
   "source": [
    "alt.Chart(newdata).mark_circle(size=60).encode(\n",
    "    x='ECD1',\n",
    "    y='ECD2',\n",
    "    color =\"Label\"\n",
    ")"
   ]
  },
  {
   "cell_type": "code",
   "execution_count": null,
   "id": "ef6cf681",
   "metadata": {},
   "outputs": [],
   "source": []
  },
  {
   "cell_type": "code",
   "execution_count": null,
   "id": "c83aef3e",
   "metadata": {},
   "outputs": [],
   "source": []
  },
  {
   "cell_type": "code",
   "execution_count": null,
   "id": "829e6434",
   "metadata": {},
   "outputs": [],
   "source": [
    "cluster = AgglomerativeClustering(n_clusters=2, affinity='euclidean', linkage='ward')\n",
    "y = cluster.fit_predict(newdata.iloc[:,:-1])"
   ]
  },
  {
   "cell_type": "code",
   "execution_count": null,
   "id": "5dbc2f44",
   "metadata": {},
   "outputs": [],
   "source": [
    "newdata['cluster'] = y"
   ]
  },
  {
   "cell_type": "code",
   "execution_count": null,
   "id": "82e9b096",
   "metadata": {},
   "outputs": [],
   "source": [
    "newdata[newdata['cluster'] == 0]['Label'].value_counts()"
   ]
  },
  {
   "cell_type": "code",
   "execution_count": null,
   "id": "9b289517",
   "metadata": {},
   "outputs": [],
   "source": [
    "from sklearn.cluster import KMeans\n",
    "\n",
    "kmeans_test = KMeans(n_clusters= 2, init=\"k-means++\", max_iter=500, algorithm = 'auto')\n",
    "fitted = kmeans_test.fit(newdata.iloc[:,:-2])\n",
    "prediction = kmeans_test.predict(newdata.iloc[:,:-2])"
   ]
  },
  {
   "cell_type": "code",
   "execution_count": null,
   "id": "47eff6be",
   "metadata": {},
   "outputs": [],
   "source": [
    "newdata['kcluster'] = prediction"
   ]
  },
  {
   "cell_type": "code",
   "execution_count": null,
   "id": "45a4738b",
   "metadata": {},
   "outputs": [],
   "source": [
    "newdata[newdata['kcluster'] == 0]['Label'].value_counts()"
   ]
  },
  {
   "cell_type": "code",
   "execution_count": null,
   "id": "1bb2434c",
   "metadata": {},
   "outputs": [],
   "source": [
    "from sklearn.mixture import GaussianMixture"
   ]
  },
  {
   "cell_type": "code",
   "execution_count": null,
   "id": "cc66999d",
   "metadata": {},
   "outputs": [],
   "source": [
    "gmm = GaussianMixture(n_components=2).fit(newdata.iloc[:,:-3])"
   ]
  },
  {
   "cell_type": "code",
   "execution_count": null,
   "id": "ab29658a",
   "metadata": {},
   "outputs": [],
   "source": [
    "labels = gmm.predict(newdata.iloc[:,:-3])"
   ]
  },
  {
   "cell_type": "code",
   "execution_count": null,
   "id": "51ef916d",
   "metadata": {},
   "outputs": [],
   "source": [
    "newdata['gcluster'] = labels"
   ]
  },
  {
   "cell_type": "code",
   "execution_count": null,
   "id": "4228f10f",
   "metadata": {},
   "outputs": [],
   "source": [
    "newdata[newdata['gcluster'] == 1]['Label'].value_counts()"
   ]
  },
  {
   "cell_type": "code",
   "execution_count": null,
   "id": "baa4343a",
   "metadata": {},
   "outputs": [],
   "source": [
    "ECD_ts = pd.read_csv('/Users/neethug/Desktop/Neethu/Course/DATA599/Project/finaldata/TimeSeries/ECD_TS.csv')\n",
    "un_ts = pd.read_csv('/Users/neethug/Desktop/Neethu/Course/DATA599/Project/finaldata/TimeSeries/US_TS.csv')"
   ]
  },
  {
   "cell_type": "code",
   "execution_count": null,
   "id": "e831d981",
   "metadata": {},
   "outputs": [],
   "source": [
    "ECD_ts['Label']= \"ECDcontact\""
   ]
  },
  {
   "cell_type": "code",
   "execution_count": null,
   "id": "587c9d89",
   "metadata": {},
   "outputs": [],
   "source": [
    "un_ts['Label'] = 'Unsuccessful'"
   ]
  },
  {
   "cell_type": "code",
   "execution_count": null,
   "id": "614c3939",
   "metadata": {},
   "outputs": [],
   "source": [
    "data1 = pd.concat([ECD_ts,un_ts])"
   ]
  },
  {
   "cell_type": "code",
   "execution_count": null,
   "id": "6c746a5d",
   "metadata": {},
   "outputs": [],
   "source": [
    "caldata = data1.iloc[:,:1005]"
   ]
  },
  {
   "cell_type": "code",
   "execution_count": null,
   "id": "f2fcee13",
   "metadata": {},
   "outputs": [],
   "source": [
    "caldata['Label'] = data1['Label']"
   ]
  },
  {
   "cell_type": "code",
   "execution_count": null,
   "id": "2fa40967",
   "metadata": {},
   "outputs": [],
   "source": [
    "caldata = caldata.dropna()\n",
    "caldata = caldata.reset_index(drop=True)"
   ]
  },
  {
   "cell_type": "code",
   "execution_count": null,
   "id": "65611770",
   "metadata": {},
   "outputs": [],
   "source": [
    "caldata"
   ]
  },
  {
   "cell_type": "code",
   "execution_count": null,
   "id": "290a1204",
   "metadata": {},
   "outputs": [],
   "source": [
    "X = caldata.iloc[:,1:-1]\n",
    "Y = caldata.iloc[:,-1]"
   ]
  },
  {
   "cell_type": "code",
   "execution_count": null,
   "id": "3ebef77a",
   "metadata": {},
   "outputs": [],
   "source": [
    "from sklearn.preprocessing import StandardScaler\n",
    "\n",
    "sc = StandardScaler()\n",
    "X_std = sc.fit_transform(X)"
   ]
  },
  {
   "cell_type": "code",
   "execution_count": null,
   "id": "69de78f7",
   "metadata": {},
   "outputs": [],
   "source": [
    "a = minmax_scale(X, axis = 0)"
   ]
  },
  {
   "cell_type": "code",
   "execution_count": null,
   "id": "b3e57459",
   "metadata": {},
   "outputs": [],
   "source": [
    "a = pd.DataFrame(a)"
   ]
  },
  {
   "cell_type": "code",
   "execution_count": null,
   "id": "5e016567",
   "metadata": {},
   "outputs": [],
   "source": [
    "a"
   ]
  },
  {
   "cell_type": "code",
   "execution_count": null,
   "id": "45e3a763",
   "metadata": {},
   "outputs": [],
   "source": []
  }
 ],
 "metadata": {
  "kernelspec": {
   "display_name": "Python 3 (ipykernel)",
   "language": "python",
   "name": "python3"
  },
  "language_info": {
   "codemirror_mode": {
    "name": "ipython",
    "version": 3
   },
   "file_extension": ".py",
   "mimetype": "text/x-python",
   "name": "python",
   "nbconvert_exporter": "python",
   "pygments_lexer": "ipython3",
   "version": "3.9.9"
  }
 },
 "nbformat": 4,
 "nbformat_minor": 5
}
