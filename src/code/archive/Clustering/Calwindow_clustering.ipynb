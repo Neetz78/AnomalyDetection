{
 "cells": [
  {
   "cell_type": "markdown",
   "id": "c4ea6b8a",
   "metadata": {},
   "source": [
    "### Calwindow clustering"
   ]
  },
  {
   "cell_type": "markdown",
   "id": "f83ba932",
   "metadata": {},
   "source": [
    "This notebook contains different dimensionality reductions techniques tried such as Singular Value Decomposition, Discrete fourier transforms and Discrete Wavelet transforms on only calibration window of the time series data. Clustering methods such as Kmeans, DBSCAN and Birch."
   ]
  },
  {
   "cell_type": "code",
   "execution_count": null,
   "id": "66efefd4",
   "metadata": {},
   "outputs": [],
   "source": [
    "import pandas as pd"
   ]
  },
  {
   "cell_type": "code",
   "execution_count": null,
   "id": "2f7bcf9d-2181-417a-b9a6-8b495c29b92a",
   "metadata": {},
   "outputs": [],
   "source": [
    "ecd_ts = pd.read_csv('/Users/neethug/Desktop/Neethu/Course/DATA599/Project/finaldata/TimeSeries/ecd_TS.csv')\n",
    "un_ts = pd.read_csv('/Users/neethug/Desktop/Neethu/Course/DATA599/Project/finaldata/TimeSeries/US_TS.csv')"
   ]
  },
  {
   "cell_type": "code",
   "execution_count": null,
   "id": "ec4bca18-d28e-4f3e-b98b-5eb5bcea09e1",
   "metadata": {},
   "outputs": [],
   "source": [
    "len(ecd_ts)"
   ]
  },
  {
   "cell_type": "code",
   "execution_count": null,
   "id": "5335de87-3b50-4dcc-b3b9-d08e0432a72a",
   "metadata": {},
   "outputs": [],
   "source": [
    "ecd_ts['Label']= \"ecdcontact\""
   ]
  },
  {
   "cell_type": "code",
   "execution_count": null,
   "id": "274be99f-8af8-43f7-9ba2-6265f330bd39",
   "metadata": {
    "scrolled": true,
    "tags": []
   },
   "outputs": [],
   "source": [
    "ecd_ts"
   ]
  },
  {
   "cell_type": "code",
   "execution_count": null,
   "id": "fb4afed3-1253-48de-a626-f27a66405d04",
   "metadata": {},
   "outputs": [],
   "source": [
    "len(un_ts)"
   ]
  },
  {
   "cell_type": "code",
   "execution_count": null,
   "id": "a9a6430c-275c-4e84-b98c-a682e3477fd7",
   "metadata": {},
   "outputs": [],
   "source": [
    "## ecdcontacts are not in unsuccessful readings\n",
    "un_ts[un_ts['TestId'] == 8071094]"
   ]
  },
  {
   "cell_type": "code",
   "execution_count": null,
   "id": "5f8c11fc-7be1-4881-8ab3-4ad4e59d2d55",
   "metadata": {},
   "outputs": [],
   "source": [
    "un_ts['Label'] = 'Unsuccessful'"
   ]
  },
  {
   "cell_type": "code",
   "execution_count": null,
   "id": "fcab0c06-c28d-4adf-a565-2316d3a6b1fe",
   "metadata": {},
   "outputs": [],
   "source": [
    "data = pd.concat([ecd_ts,un_ts])"
   ]
  },
  {
   "cell_type": "code",
   "execution_count": null,
   "id": "50e29c13-f6d1-43a3-8de6-e943dfcbcf12",
   "metadata": {
    "scrolled": true,
    "tags": []
   },
   "outputs": [],
   "source": [
    "data"
   ]
  },
  {
   "cell_type": "code",
   "execution_count": null,
   "id": "b7c10e4d-4d89-4914-9591-ac90d28bf867",
   "metadata": {},
   "outputs": [],
   "source": [
    "data[data['TestId'] == 9610462]"
   ]
  },
  {
   "cell_type": "code",
   "execution_count": null,
   "id": "aebc050a-d576-4b5f-b3db-40402eb57690",
   "metadata": {},
   "outputs": [],
   "source": [
    "data[data['TestId'] == 9610647]"
   ]
  },
  {
   "cell_type": "code",
   "execution_count": null,
   "id": "4399436e-8ef7-4a0a-8882-0f571cb97a55",
   "metadata": {},
   "outputs": [],
   "source": [
    "## these two are outliers as seen from predictors file need to remove them "
   ]
  },
  {
   "cell_type": "code",
   "execution_count": null,
   "id": "28d22782-9e2c-4c4e-9fef-b0e42a305f83",
   "metadata": {},
   "outputs": [],
   "source": [
    "data = data.drop([data.index[140] , data.index[141]])"
   ]
  },
  {
   "cell_type": "code",
   "execution_count": null,
   "id": "98594929-3483-4d15-bcad-41188a590657",
   "metadata": {},
   "outputs": [],
   "source": [
    "# Crosschecking\n",
    "# data[data['TestId'] == 9610462]\n",
    "data[data['TestId'] == 9610647]"
   ]
  },
  {
   "cell_type": "code",
   "execution_count": null,
   "id": "d7a6c3ba-d308-45fc-a655-2f857e5ddaaa",
   "metadata": {},
   "outputs": [],
   "source": [
    "data.isna().sum()"
   ]
  },
  {
   "cell_type": "code",
   "execution_count": null,
   "id": "6763ce1d-5143-46a0-869c-6dab58f9e07d",
   "metadata": {},
   "outputs": [],
   "source": [
    "test = data"
   ]
  },
  {
   "cell_type": "code",
   "execution_count": null,
   "id": "dd192b9f-d0c0-4f0f-8d5f-5f995f6ad065",
   "metadata": {},
   "outputs": [],
   "source": [
    "test"
   ]
  },
  {
   "cell_type": "code",
   "execution_count": null,
   "id": "7ff63b84-6b43-41bd-9818-aadd2a347030",
   "metadata": {},
   "outputs": [],
   "source": [
    "caldata = test.iloc[:,:1005]"
   ]
  },
  {
   "cell_type": "code",
   "execution_count": null,
   "id": "8f4911b3-030b-4154-91e3-26420627625e",
   "metadata": {},
   "outputs": [],
   "source": [
    "caldata['Label'] = test['Label'] "
   ]
  },
  {
   "cell_type": "code",
   "execution_count": null,
   "id": "9a757f00-c862-437c-9332-50bf6df22547",
   "metadata": {
    "scrolled": true,
    "tags": []
   },
   "outputs": [],
   "source": [
    "caldata"
   ]
  },
  {
   "cell_type": "code",
   "execution_count": null,
   "id": "e58d0477-c894-46b3-8aaa-c511b5af48e7",
   "metadata": {},
   "outputs": [],
   "source": [
    "caldata[caldata.isna().any(axis=1)]"
   ]
  },
  {
   "cell_type": "code",
   "execution_count": null,
   "id": "46c2164e-b1f5-4669-9acf-6c186b68c423",
   "metadata": {},
   "outputs": [],
   "source": [
    "## dropecdg na values to see \n",
    "caldatatest = caldata.dropna()\n",
    "caldatatest = caldatatest.reset_index(drop=True)"
   ]
  },
  {
   "cell_type": "code",
   "execution_count": null,
   "id": "40f16d8f-b07e-4651-85af-c2ea9741ea83",
   "metadata": {},
   "outputs": [],
   "source": [
    "caldatatest"
   ]
  },
  {
   "cell_type": "code",
   "execution_count": null,
   "id": "a1b9a73e-b648-4530-8f11-5d5374b836d4",
   "metadata": {},
   "outputs": [],
   "source": [
    "caldatatest.to_csv(\"/Users/neethug/Desktop/Neethu/Course/DATA599/Project/finaldata/caltest.csv\",index = False)"
   ]
  },
  {
   "cell_type": "code",
   "execution_count": null,
   "id": "89537f3a-8043-4195-a824-5c43a24c8e71",
   "metadata": {},
   "outputs": [],
   "source": [
    "A = caldatatest.iloc[:,1:-1]"
   ]
  },
  {
   "cell_type": "markdown",
   "id": "3c922384-6d4d-4d18-9d05-33ce053bac58",
   "metadata": {},
   "source": [
    "### Singular Value Decomposition for dimensionality reduction"
   ]
  },
  {
   "cell_type": "markdown",
   "id": "d967a290-aa0a-4a4c-9708-7dc58de732e1",
   "metadata": {},
   "source": [
    "The Singular-Value Decomposition, or SVD for short, is a matrix decomposition method for reducing a matrix to its constituent parts in order to make certain subsequent matrix calculations simpler."
   ]
  },
  {
   "cell_type": "markdown",
   "id": "62114302-34e6-4d9e-93a9-433e2b887267",
   "metadata": {},
   "source": [
    "SVD takes in a matrix and return U S and VT"
   ]
  },
  {
   "cell_type": "code",
   "execution_count": null,
   "id": "3c2c640f-1020-4db4-92d4-375107a03ce9",
   "metadata": {},
   "outputs": [],
   "source": [
    "from sklearn.decomposition import TruncatedSVD\n",
    "\n",
    "# svd\n",
    "svd = TruncatedSVD(n_components=2)\n",
    "svd.fit(A)\n",
    "result = svd.transform(A)\n",
    "print(result)"
   ]
  },
  {
   "cell_type": "code",
   "execution_count": null,
   "id": "4963f403-6f1a-4d2f-bb8e-3bbbbbcdfef5",
   "metadata": {},
   "outputs": [],
   "source": [
    "df = pd. DataFrame(result, columns=['SVD1', 'SVD2'])"
   ]
  },
  {
   "cell_type": "code",
   "execution_count": null,
   "id": "1696c90d-cb52-4a82-b790-bf6d2f27aebd",
   "metadata": {},
   "outputs": [],
   "source": [
    "df['TestID'] = caldatatest['TestId']"
   ]
  },
  {
   "cell_type": "code",
   "execution_count": null,
   "id": "99bad7cb-2a4b-4523-8529-fdd1045b6c39",
   "metadata": {},
   "outputs": [],
   "source": [
    "df['Label'] = caldatatest['Label']"
   ]
  },
  {
   "cell_type": "code",
   "execution_count": null,
   "id": "18e3836e-861c-405c-a361-2268ca1ffeea",
   "metadata": {
    "scrolled": true,
    "tags": []
   },
   "outputs": [],
   "source": [
    "df"
   ]
  },
  {
   "cell_type": "code",
   "execution_count": null,
   "id": "dca2848d-6af2-4b6a-9eb8-0f51f952ce56",
   "metadata": {
    "scrolled": true,
    "tags": []
   },
   "outputs": [],
   "source": [
    "!pip install altair"
   ]
  },
  {
   "cell_type": "code",
   "execution_count": null,
   "id": "27446459-c579-4de9-bbf2-c722b7cdc8f1",
   "metadata": {},
   "outputs": [],
   "source": [
    "import altair as alt\n",
    "alt.data_transformers.disable_max_rows()"
   ]
  },
  {
   "cell_type": "code",
   "execution_count": null,
   "id": "16e65ee9-e21f-4035-b9f1-1c0c00114ad5",
   "metadata": {},
   "outputs": [],
   "source": [
    "alt.Chart(df).mark_circle(size=60).encode(\n",
    "    x='SVD1',\n",
    "    y='SVD2',\n",
    "    color = 'Label',\n",
    "    tooltip=['TestID']\n",
    ")"
   ]
  },
  {
   "cell_type": "markdown",
   "id": "28bc65e5-f236-49c0-9f1c-5ec678b2066d",
   "metadata": {},
   "source": [
    "## Discrete Fourier transform \n",
    "\n",
    "To derive frequency domain prespective of the time series"
   ]
  },
  {
   "cell_type": "markdown",
   "id": "9cd125ed-ca6c-4301-96cf-4d9631710eaa",
   "metadata": {},
   "source": [
    "Didnt work for entire dataset as it containc nan values, and the dft returns nan values for all columns."
   ]
  },
  {
   "cell_type": "code",
   "execution_count": null,
   "id": "d1cd60a5-edda-46c8-9744-ad79df5d40d8",
   "metadata": {},
   "outputs": [],
   "source": [
    "from scipy.fft import fft, ifft"
   ]
  },
  {
   "cell_type": "code",
   "execution_count": null,
   "id": "3845dffd-5786-4b7f-a173-4de695e1fa1b",
   "metadata": {},
   "outputs": [],
   "source": [
    "y = fft(A,n=2)"
   ]
  },
  {
   "cell_type": "markdown",
   "id": "4d512575-8011-4d7f-a7e4-846104a7b9cc",
   "metadata": {},
   "source": [
    "DFT provides frequency domain information on the entire waveform if we give n=2 wont we miss out on the information stored in further columns?\n",
    "\n",
    "if we do consider all the columns then we might again want to apply reduction technique?"
   ]
  },
  {
   "cell_type": "code",
   "execution_count": null,
   "id": "85021078-706a-4aa7-9e0f-dd8bf9456f52",
   "metadata": {},
   "outputs": [],
   "source": [
    "len(y)"
   ]
  },
  {
   "cell_type": "code",
   "execution_count": null,
   "id": "06593e1d-bf00-4c9e-81d5-f879fa074e1b",
   "metadata": {},
   "outputs": [],
   "source": [
    "df2 = pd. DataFrame(abs(y),columns = ['DFT1','DFT2'])"
   ]
  },
  {
   "cell_type": "code",
   "execution_count": null,
   "id": "7a8ff318-3bf9-4e23-b483-9b341c61cb56",
   "metadata": {},
   "outputs": [],
   "source": [
    "df2"
   ]
  },
  {
   "cell_type": "code",
   "execution_count": null,
   "id": "72bcebb5-0f83-42c2-9a32-5d32489f7546",
   "metadata": {},
   "outputs": [],
   "source": [
    "df2['TestID'] = caldatatest['TestId']"
   ]
  },
  {
   "cell_type": "code",
   "execution_count": null,
   "id": "e33ccf70-5506-4348-a855-f323c005ea9a",
   "metadata": {},
   "outputs": [],
   "source": [
    "df2['Label'] = caldatatest['Label']"
   ]
  },
  {
   "cell_type": "code",
   "execution_count": null,
   "id": "7c4dd149-c179-4d65-94ab-5abe2ece55c4",
   "metadata": {},
   "outputs": [],
   "source": [
    "df2.columns"
   ]
  },
  {
   "cell_type": "code",
   "execution_count": null,
   "id": "edae65d5-bb1f-4084-a882-880b75d643f0",
   "metadata": {},
   "outputs": [],
   "source": [
    "alt.Chart(df2).mark_circle(size=60).encode(\n",
    "    x='DFT1',\n",
    "    y='DFT2',\n",
    "    color = 'Label',\n",
    "    tooltip=['TestID']\n",
    ")"
   ]
  },
  {
   "cell_type": "markdown",
   "id": "510748b5-d1e6-45a3-9b40-ff3a82042bd1",
   "metadata": {},
   "source": [
    "PLotting wavefroms before and after trasformation to see what it represents"
   ]
  },
  {
   "cell_type": "code",
   "execution_count": null,
   "id": "dc2348cd-cdc7-46b6-921e-757127bbfb8d",
   "metadata": {},
   "outputs": [],
   "source": [
    "import matplotlib.pyplot as plt"
   ]
  },
  {
   "cell_type": "code",
   "execution_count": null,
   "id": "cef80638-ac30-421c-8bd0-5caefa3b2db3",
   "metadata": {},
   "outputs": [],
   "source": [
    "caldatatest.iloc[:1,1:-1]"
   ]
  },
  {
   "cell_type": "code",
   "execution_count": null,
   "id": "6b9bbfe5-4635-4a37-b024-467bf8f8141c",
   "metadata": {},
   "outputs": [],
   "source": [
    "len(x1)"
   ]
  },
  {
   "cell_type": "code",
   "execution_count": null,
   "id": "97bf30d9-d876-402d-bd74-ba8645c51546",
   "metadata": {},
   "outputs": [],
   "source": [
    "len(y1)"
   ]
  },
  {
   "cell_type": "code",
   "execution_count": null,
   "id": "575d0ffd-e5ef-4efd-a4eb-0c0bf066fdac",
   "metadata": {},
   "outputs": [],
   "source": [
    "x1 = caldatatest.columns.to_list()\n",
    "x1.remove('TestId')\n",
    "x1.remove('Label')"
   ]
  },
  {
   "cell_type": "code",
   "execution_count": null,
   "id": "632cef83-98a7-467a-9310-a7da712b6bc2",
   "metadata": {},
   "outputs": [],
   "source": [
    "y1 = caldatatest.iloc[0][1:-1].values\n",
    "plt.plot(x1,y1)"
   ]
  },
  {
   "cell_type": "code",
   "execution_count": null,
   "id": "d333b5fd-ac78-408d-b554-49761d701fa0",
   "metadata": {},
   "outputs": [],
   "source": [
    "x2 = df2.columns.to_list()\n",
    "x2.remove('TestID')\n",
    "x2.remove('Label')\n",
    "y2 = df2.iloc[0][0:2].values"
   ]
  },
  {
   "cell_type": "code",
   "execution_count": null,
   "id": "0e7227a8-eb57-4f29-a753-abe569a5678d",
   "metadata": {},
   "outputs": [],
   "source": [
    "plt.plot(x2,y2)"
   ]
  },
  {
   "cell_type": "markdown",
   "id": "75c6672d-1acf-40c1-821f-27b29bad20e8",
   "metadata": {},
   "source": [
    "## Fourier transform works when no variation in time happens, when we are in the frequency-domain we lose this dependency\n",
    "\n",
    "In some way we can think of the Fourier transform as a trade-off between time information and frequency information. By taking a FT of a time signal, all time information is lost in return for frequency information"
   ]
  },
  {
   "cell_type": "markdown",
   "id": "89eeb258-0049-463b-8940-066f02750627",
   "metadata": {},
   "source": [
    "## Discrete Wavelet Transform"
   ]
  },
  {
   "cell_type": "markdown",
   "id": "37ca46d9-4d79-4cef-a934-8ed93012a04a",
   "metadata": {},
   "source": [
    "This considers both frequency and time aspects of the waveform ,"
   ]
  },
  {
   "cell_type": "markdown",
   "id": "cd60b347-9b8c-4753-ac09-71f7b1151db4",
   "metadata": {},
   "source": [
    "A discrete wavelet transform (DWT) is a transform that decomposes a given signal into a number of sets, where each set is a time series of coefficients describing the time evolution of the signal in the corresponding frequency band."
   ]
  },
  {
   "cell_type": "code",
   "execution_count": null,
   "id": "77ddd97c-d561-4ccb-b19e-0328a6b5daa7",
   "metadata": {},
   "outputs": [],
   "source": [
    "!pip install PyWavelets"
   ]
  },
  {
   "cell_type": "code",
   "execution_count": null,
   "id": "b1cd3276-7ff9-4bb6-9cb5-f8f229fe460c",
   "metadata": {},
   "outputs": [],
   "source": [
    "import pywt"
   ]
  },
  {
   "cell_type": "code",
   "execution_count": null,
   "id": "25631edc-0fae-45d9-8dd0-e3dbdda9b39f",
   "metadata": {},
   "outputs": [],
   "source": [
    "res, res1 = pywt.dwt(A,wavelet='Haar')"
   ]
  },
  {
   "cell_type": "code",
   "execution_count": null,
   "id": "7a12a4f9-3485-4d34-afa3-d5f292a786ca",
   "metadata": {},
   "outputs": [],
   "source": [
    "df = pd.DataFrame(res)"
   ]
  },
  {
   "cell_type": "code",
   "execution_count": null,
   "id": "b394f500-618d-41d6-94a8-0ca56e044d0a",
   "metadata": {},
   "outputs": [],
   "source": [
    "df"
   ]
  },
  {
   "cell_type": "code",
   "execution_count": null,
   "id": "39174560-5794-4e9f-aeaa-5b2d7f35370e",
   "metadata": {},
   "outputs": [],
   "source": [
    "import pandas as pd \n",
    "import matplotlib as mpl\n",
    "import matplotlib.pyplot as plt\n",
    "import seaborn as sns\n",
    "import numpy as np\n",
    "from sklearn.decomposition import PCA\n",
    "pca = PCA().fit(df)\n",
    "plt.plot(np.cumsum(pca.explained_variance_ratio_))\n",
    "plt.xlim(0,7,1)\n",
    "plt.xlabel('Number of components')\n",
    "plt.ylabel('Cumulative explained variance')"
   ]
  },
  {
   "cell_type": "code",
   "execution_count": null,
   "id": "fd25f7d7-3025-4800-aa6d-b5f79661e69f",
   "metadata": {},
   "outputs": [],
   "source": [
    "pca = PCA(n_components=2)\n",
    "pc = pca.fit_transform(df)"
   ]
  },
  {
   "cell_type": "code",
   "execution_count": null,
   "id": "7839ac5d-349a-447f-a5b5-6b18c8eeecb6",
   "metadata": {},
   "outputs": [],
   "source": [
    "dt = pd.DataFrame(pc, columns = ['PC1','PC2'])"
   ]
  },
  {
   "cell_type": "code",
   "execution_count": null,
   "id": "bd180055-886c-4ef1-82fa-8fabcbcf8998",
   "metadata": {},
   "outputs": [],
   "source": [
    "dt"
   ]
  },
  {
   "cell_type": "code",
   "execution_count": null,
   "id": "74082d12-0500-47f6-973c-567c1461ca3c",
   "metadata": {},
   "outputs": [],
   "source": [
    "dt['Label'] = caldatatest['Label']"
   ]
  },
  {
   "cell_type": "code",
   "execution_count": null,
   "id": "1383fc07-778a-49f5-9d84-7d9b90653308",
   "metadata": {},
   "outputs": [],
   "source": [
    "from sklearn.cluster import KMeans\n",
    "from yellowbrick.cluster import KElbowVisualizer\n",
    "\n",
    "# Instantiate the clustering model and visualizer\n",
    "model = KMeans()\n",
    "visualizer = KElbowVisualizer(model, k=(1,12))"
   ]
  },
  {
   "cell_type": "code",
   "execution_count": null,
   "id": "f7718a2b-e3aa-4fc6-81f8-649ab6f72e14",
   "metadata": {},
   "outputs": [],
   "source": [
    "visualizer.fit(dt)      \n",
    "visualizer.show()"
   ]
  },
  {
   "cell_type": "code",
   "execution_count": null,
   "id": "4786cb7f-7eea-49a3-b8d2-4d6ca2a13591",
   "metadata": {},
   "outputs": [],
   "source": [
    "plt.scatter(dt['PC1'],dt['PC2'])"
   ]
  },
  {
   "cell_type": "code",
   "execution_count": null,
   "id": "a40765f5-2ec6-4a67-94ab-998d857acf34",
   "metadata": {},
   "outputs": [],
   "source": [
    "import altair as alt\n",
    "alt.data_transformers.disable_max_rows()"
   ]
  },
  {
   "cell_type": "code",
   "execution_count": null,
   "id": "09ca4099-114f-4a9f-8d1b-79476afe821d",
   "metadata": {},
   "outputs": [],
   "source": [
    "alt.Chart(dt).mark_circle(size=60).encode(\n",
    "    x='PC1',\n",
    "    y='PC2',\n",
    "    color = 'Label'\n",
    ")"
   ]
  },
  {
   "cell_type": "code",
   "execution_count": null,
   "id": "fd9249a8-2f3a-4595-b8c3-4804513cf7ad",
   "metadata": {},
   "outputs": [],
   "source": [
    "X = dt.iloc[:,:-1]"
   ]
  },
  {
   "cell_type": "code",
   "execution_count": null,
   "id": "a0bc8b54-c3b7-41b0-a6ef-c2bb0b903774",
   "metadata": {},
   "outputs": [],
   "source": [
    "from sklearn.cluster import KMeans"
   ]
  },
  {
   "cell_type": "code",
   "execution_count": null,
   "id": "77e73a35-d24f-44cb-9810-5af2f26394d7",
   "metadata": {},
   "outputs": [],
   "source": [
    "kmodel = KMeans(n_clusters=3)"
   ]
  },
  {
   "cell_type": "code",
   "execution_count": null,
   "id": "bf174f60-3741-448f-8d51-3b5502a2dc2f",
   "metadata": {},
   "outputs": [],
   "source": [
    "kmodel.fit(X)"
   ]
  },
  {
   "cell_type": "code",
   "execution_count": null,
   "id": "f5c98b47-4795-4ca2-8bba-739b78eb4db0",
   "metadata": {},
   "outputs": [],
   "source": [
    "yhat = kmodel.predict(X)"
   ]
  },
  {
   "cell_type": "code",
   "execution_count": null,
   "id": "ca1ceb8a-f160-47b6-a78a-55d56b4bb287",
   "metadata": {},
   "outputs": [],
   "source": [
    "dt['cluster'] = yhat"
   ]
  },
  {
   "cell_type": "code",
   "execution_count": null,
   "id": "574a65eb-8d67-4761-a13d-57d098e8cb35",
   "metadata": {},
   "outputs": [],
   "source": [
    "dt[dt['cluster'] == 0].groupby('Label').count()"
   ]
  },
  {
   "cell_type": "code",
   "execution_count": null,
   "id": "4cb9b958-0fe7-4a8a-b6a7-de5ecb7b8f6b",
   "metadata": {},
   "outputs": [],
   "source": [
    "dt"
   ]
  },
  {
   "cell_type": "code",
   "execution_count": null,
   "id": "4ba427d6-c174-4dca-815e-f84af05e5558",
   "metadata": {},
   "outputs": [],
   "source": [
    "X['cluster'] = yhat"
   ]
  },
  {
   "cell_type": "code",
   "execution_count": null,
   "id": "7c2f9a65-07f8-4b56-b0a3-7d6867236687",
   "metadata": {},
   "outputs": [],
   "source": [
    "X"
   ]
  },
  {
   "cell_type": "code",
   "execution_count": null,
   "id": "b0e12978-51c8-431f-9c3f-e586a25827ad",
   "metadata": {},
   "outputs": [],
   "source": [
    "from sklearn.preprocessing import LabelEncoder\n",
    "le = LabelEncoder()\n",
    "\n",
    "\n",
    "X['cluster'] = le.fit_transform(X['cluster'])"
   ]
  },
  {
   "cell_type": "code",
   "execution_count": null,
   "id": "a89f803c-3be0-4ae0-9310-7b6a800f8cd5",
   "metadata": {},
   "outputs": [],
   "source": [
    "model = KMeans()\n",
    "visualizer = KElbowVisualizer(model, k=(1,12))"
   ]
  },
  {
   "cell_type": "code",
   "execution_count": null,
   "id": "968105cd-bc3c-48f5-a929-63986615008a",
   "metadata": {},
   "outputs": [],
   "source": [
    "visualizer.fit(X)      \n",
    "visualizer.show()"
   ]
  },
  {
   "cell_type": "code",
   "execution_count": null,
   "id": "5373f6dc-9d5a-471a-beaf-b6d8e08fe2c4",
   "metadata": {},
   "outputs": [],
   "source": []
  },
  {
   "cell_type": "code",
   "execution_count": null,
   "id": "fd93c48d-e1ea-41a8-ad10-0a76e739ea6c",
   "metadata": {},
   "outputs": [],
   "source": []
  },
  {
   "cell_type": "code",
   "execution_count": null,
   "id": "0c00acde-0deb-4de9-9ce5-1c846b73e6dc",
   "metadata": {},
   "outputs": [],
   "source": [
    "from sklearn.cluster import DBSCAN"
   ]
  },
  {
   "cell_type": "code",
   "execution_count": null,
   "id": "e118051b-17a5-4f8e-937c-abbbef26b447",
   "metadata": {},
   "outputs": [],
   "source": []
  },
  {
   "cell_type": "code",
   "execution_count": null,
   "id": "60e6b706-fc5d-41aa-bc6f-d54f4e811ead",
   "metadata": {},
   "outputs": [],
   "source": [
    "Dmod = DBSCAN(eps=0.30, min_samples=10)"
   ]
  },
  {
   "cell_type": "code",
   "execution_count": null,
   "id": "2119f80a-a166-4f77-955a-f4219bd5dafd",
   "metadata": {},
   "outputs": [],
   "source": [
    "yhat = Dmod.fit_predict(X)"
   ]
  },
  {
   "cell_type": "code",
   "execution_count": null,
   "id": "591e1e5c-9484-47f4-9b04-55d3453496c0",
   "metadata": {},
   "outputs": [],
   "source": [
    "unique(yhat)"
   ]
  },
  {
   "cell_type": "code",
   "execution_count": null,
   "id": "6dbbd247-0520-45cc-89e3-6efcc7e9f63e",
   "metadata": {},
   "outputs": [],
   "source": [
    "X['newcluster']= yhat"
   ]
  },
  {
   "cell_type": "code",
   "execution_count": null,
   "id": "f6bc6f0e-6275-44e4-bb91-88e68a54ed02",
   "metadata": {},
   "outputs": [],
   "source": [
    "X['cluster'] == X['newcluster']"
   ]
  },
  {
   "cell_type": "code",
   "execution_count": null,
   "id": "8f6b5684-1b87-4e35-ac7a-dfbff8fd9f7f",
   "metadata": {},
   "outputs": [],
   "source": []
  },
  {
   "cell_type": "code",
   "execution_count": null,
   "id": "e41a8371-6c0c-4873-8941-48891b189963",
   "metadata": {},
   "outputs": [],
   "source": []
  },
  {
   "cell_type": "code",
   "execution_count": null,
   "id": "354151e7-1231-4e2c-82c4-4c4345b7c656",
   "metadata": {},
   "outputs": [],
   "source": []
  },
  {
   "cell_type": "code",
   "execution_count": null,
   "id": "5019cde2-0148-4c3d-8bfe-811eaeb8a9f3",
   "metadata": {},
   "outputs": [],
   "source": []
  },
  {
   "cell_type": "code",
   "execution_count": null,
   "id": "022afe63-44cb-458b-94f5-4800a584b081",
   "metadata": {},
   "outputs": [],
   "source": []
  },
  {
   "cell_type": "code",
   "execution_count": null,
   "id": "5a1a94f6-961f-44b2-9df2-8fcd72bc40b0",
   "metadata": {},
   "outputs": [],
   "source": [
    "df3 = df2"
   ]
  },
  {
   "cell_type": "code",
   "execution_count": null,
   "id": "6f7115de-2ec1-43ee-9dea-c1b8c25e5d66",
   "metadata": {},
   "outputs": [],
   "source": [
    "df3['DFT1'] = res[0]"
   ]
  },
  {
   "cell_type": "code",
   "execution_count": null,
   "id": "279a3c82-af5f-4864-be9f-98b8d0f6edb4",
   "metadata": {},
   "outputs": [],
   "source": [
    "df3['DFT2'] = res[1]"
   ]
  },
  {
   "cell_type": "code",
   "execution_count": null,
   "id": "b4e21758-13fa-4ba8-91a3-4e9042c47504",
   "metadata": {},
   "outputs": [],
   "source": [
    "df3"
   ]
  },
  {
   "cell_type": "code",
   "execution_count": null,
   "id": "2d8c7f90-c1a7-4209-a887-0a3db8076a80",
   "metadata": {},
   "outputs": [],
   "source": [
    "alt.Chart(df3).mark_circle(size=60).encode(\n",
    "    x='DFT1',\n",
    "    y='DFT2',\n",
    "    color = 'Label',\n",
    "    tooltip=['TestID']\n",
    ")"
   ]
  },
  {
   "cell_type": "code",
   "execution_count": null,
   "id": "697aeb95-c97c-4ba5-89cd-067938ce0a22",
   "metadata": {},
   "outputs": [],
   "source": [
    "## fitting few machine learning algorithms to see the clusters forming."
   ]
  },
  {
   "cell_type": "code",
   "execution_count": null,
   "id": "48c821fe-9d80-4435-b4fd-1980a8119d6f",
   "metadata": {},
   "outputs": [],
   "source": [
    "import sklearn\n",
    "from sklearn.cluster import Birch"
   ]
  },
  {
   "cell_type": "code",
   "execution_count": null,
   "id": "a8e07e9e-822f-42b5-b747-473b25e24137",
   "metadata": {},
   "outputs": [],
   "source": [
    "model = Birch(threshold=0.01, n_clusters=2)"
   ]
  },
  {
   "cell_type": "code",
   "execution_count": null,
   "id": "4b578b78-67ad-4d58-99c0-d08ba6b7e193",
   "metadata": {},
   "outputs": [],
   "source": [
    "model.fit(X)"
   ]
  },
  {
   "cell_type": "code",
   "execution_count": null,
   "id": "4458579b-0e71-46da-a9df-875b47db8d3a",
   "metadata": {},
   "outputs": [],
   "source": []
  },
  {
   "cell_type": "code",
   "execution_count": null,
   "id": "ecba0a4d-3877-443b-9674-c25ac2666b35",
   "metadata": {},
   "outputs": [],
   "source": []
  },
  {
   "cell_type": "code",
   "execution_count": null,
   "id": "317a67b8-8941-4bc3-93db-bffc0c7b6d02",
   "metadata": {},
   "outputs": [],
   "source": [
    "from modwt import modwt"
   ]
  },
  {
   "cell_type": "code",
   "execution_count": null,
   "id": "7b338d82-e468-4a54-ad57-249afd6fa60c",
   "metadata": {},
   "outputs": [],
   "source": [
    "result = modwt(A['0.2'], 'haar', 6)"
   ]
  },
  {
   "cell_type": "code",
   "execution_count": null,
   "id": "60aa2ec5-705e-43ea-8539-11adcdd29830",
   "metadata": {},
   "outputs": [],
   "source": [
    "result"
   ]
  },
  {
   "cell_type": "code",
   "execution_count": null,
   "id": "e502d14e-aace-443a-a339-bcdba458f4db",
   "metadata": {},
   "outputs": [],
   "source": [
    "caldatatest[caldatatest['TestId'] == 10206668]"
   ]
  },
  {
   "cell_type": "code",
   "execution_count": null,
   "id": "23705a32-6551-4822-8f0e-ab403f06bc56",
   "metadata": {},
   "outputs": [],
   "source": [
    "y = caldatatest.iloc[206][1:-1].values"
   ]
  },
  {
   "cell_type": "code",
   "execution_count": null,
   "id": "3ae03596-3b84-40af-8703-6c4f6e98c485",
   "metadata": {},
   "outputs": [],
   "source": [
    "plt.plot(x1,y)"
   ]
  },
  {
   "cell_type": "code",
   "execution_count": null,
   "id": "24b93edd-f5dc-4263-b2a8-43d17475ae07",
   "metadata": {},
   "outputs": [],
   "source": [
    "caldatatest[caldatatest['TestId'] == 10343506]"
   ]
  },
  {
   "cell_type": "code",
   "execution_count": null,
   "id": "e7d16510-2ea8-458f-9325-14a34cee9d2b",
   "metadata": {},
   "outputs": [],
   "source": [
    "y2 = caldatatest.iloc[6691][1:-1].values"
   ]
  },
  {
   "cell_type": "code",
   "execution_count": null,
   "id": "cd596733-d66e-4997-96b3-695515f55b46",
   "metadata": {},
   "outputs": [],
   "source": [
    "plt.plot(x1,y2)"
   ]
  },
  {
   "cell_type": "code",
   "execution_count": null,
   "id": "b8f182eb-4d61-4165-97d5-46596cfed003",
   "metadata": {},
   "outputs": [],
   "source": []
  }
 ],
 "metadata": {
  "kernelspec": {
   "display_name": "Python 3 (ipykernel)",
   "language": "python",
   "name": "python3"
  },
  "language_info": {
   "codemirror_mode": {
    "name": "ipython",
    "version": 3
   },
   "file_extension": ".py",
   "mimetype": "text/x-python",
   "name": "python",
   "nbconvert_exporter": "python",
   "pygments_lexer": "ipython3",
   "version": "3.9.9"
  }
 },
 "nbformat": 4,
 "nbformat_minor": 5
}
