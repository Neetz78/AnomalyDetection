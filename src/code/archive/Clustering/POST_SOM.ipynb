{
 "cells": [
  {
   "cell_type": "markdown",
   "id": "d4fd8c83",
   "metadata": {},
   "source": [
    "# Import packages"
   ]
  },
  {
   "cell_type": "code",
   "execution_count": null,
   "id": "9c5e6d84",
   "metadata": {},
   "outputs": [],
   "source": [
    "import pandas as pd\n",
    "import matplotlib.pyplot as plt\n",
    "from minisom import MiniSom"
   ]
  },
  {
   "cell_type": "markdown",
   "id": "87c93909",
   "metadata": {},
   "source": [
    "# Import post window"
   ]
  },
  {
   "cell_type": "code",
   "execution_count": null,
   "id": "35262417",
   "metadata": {},
   "outputs": [],
   "source": [
    "un_post=pd.read_csv('../../WindowedTimeSeries/un_post.csv')\n",
    "ecd_post=pd.read_csv('../../WindowedTimeSeries/ecd_post.csv')\n",
    "syn_post=pd.read_csv('../../WindowedTimeSeries/syn_post.csv')"
   ]
  },
  {
   "cell_type": "markdown",
   "id": "535e910c",
   "metadata": {},
   "source": [
    "# Loading data"
   ]
  },
  {
   "cell_type": "code",
   "execution_count": null,
   "id": "a30f5890",
   "metadata": {},
   "outputs": [],
   "source": [
    "unsuccessful_post=pd.concat([un_post,ecd_post,syn_post],axis=0)\n",
    "unsuccessful_post.shape"
   ]
  },
  {
   "cell_type": "code",
   "execution_count": null,
   "id": "e30264f3",
   "metadata": {},
   "outputs": [],
   "source": [
    "ts_list=unsuccessful_post.iloc[:,1:].values.tolist()"
   ]
  },
  {
   "cell_type": "markdown",
   "id": "ce269e87",
   "metadata": {},
   "source": [
    "# Calling minisom function"
   ]
  },
  {
   "cell_type": "code",
   "execution_count": null,
   "id": "bae7fc1c",
   "metadata": {},
   "outputs": [],
   "source": [
    "def minisom_func(som_x,som_y,sigma,activation_distance,learning_rate,epochs,neighborhood_function):\n",
    "    som_x=som_x\n",
    "    som_y=som_y\n",
    "    som = MiniSom(som_x,som_y,len(ts_list[0]),sigma=sigma,learning_rate=learning_rate,activation_distance=activation_distance,neighborhood_function=neighborhood_function)\n",
    "    som.random_weights_init(ts_list)\n",
    "    print(\"Training...\")\n",
    "    som.train_random(ts_list,epochs) # random training\n",
    "    print(\"\\n...ready!\")\n",
    "\n",
    "    return som"
   ]
  },
  {
   "cell_type": "code",
   "execution_count": null,
   "id": "5eca4ff7",
   "metadata": {},
   "outputs": [],
   "source": [
    "parameters={'som_x':1,'som_y':2,'sigma':0.7,'activation_distance':'euclidean','learning_rate':0.06,'epochs':5000,'neighborhood_function':'bubble'}\n",
    "som=minisom_func(parameters['som_x'],parameters['som_y'],\\\n",
    "                 parameters['sigma'],parameters['activation_distance'],parameters['learning_rate'],parameters['epochs'],parameters['neighborhood_function'])"
   ]
  },
  {
   "cell_type": "code",
   "execution_count": null,
   "id": "23ca3fe6",
   "metadata": {},
   "outputs": [],
   "source": [
    "win_map=som.win_map(ts_list)\n",
    "    \n",
    "cluster_c = []\n",
    "cluster_n = []\n",
    "\n",
    "for x in range(parameters['som_x']):\n",
    "    for y in range(parameters['som_y']):\n",
    "        cluster = (x,y)\n",
    "        if cluster in win_map.keys():\n",
    "            cluster_c.append(len(win_map[cluster]))\n",
    "        else:\n",
    "            cluster_c.append(0)\n",
    "        cluster_number = x*parameters['som_y']+y+1\n",
    "        cluster_n.append(f\"Cluster {cluster_number}\")\n",
    "\n",
    "plt.figure(figsize=(10,5))\n",
    "plt.title(\"Cluster Distribution for SOM\")\n",
    "plt.bar(cluster_n,cluster_c,width=0.5)\n",
    "plt.show()\n",
    "\n",
    "cluster_map = []\n",
    "for idx in range(len(ts_list)):\n",
    "    winner_node = som.winner(ts_list[idx])\n",
    "    cluster_number=winner_node[0]*parameters['som_y']+winner_node[1]+1\n",
    "    cluster_map.append(cluster_number)\n",
    "unsuccessful_post['cluster']=cluster_map\n",
    "ecd_cluster=unsuccessful_post.merge(ecd_post,on='TestId')['cluster'].value_counts()/unsuccessful_post.merge(ecd_post,on='TestId')['cluster'].value_counts().sum()\n",
    "syn_cluster=unsuccessful_post.merge(syn_post,on='TestId')['cluster'].value_counts()/unsuccessful_post.merge(syn_post,on='TestId')['cluster'].value_counts().sum()\n",
    "un_cluster=unsuccessful_post.merge(un_post,on='TestId')['cluster'].value_counts()/unsuccessful_post.merge(un_post,on='TestId')['cluster'].value_counts().sum()"
   ]
  },
  {
   "cell_type": "code",
   "execution_count": null,
   "id": "656905a1",
   "metadata": {},
   "outputs": [],
   "source": [
    "print(ecd_cluster,'\\n',syn_cluster,'\\n',un_cluster,'\\n')"
   ]
  },
  {
   "cell_type": "markdown",
   "id": "44a4fb2a",
   "metadata": {},
   "source": [
    "## Results:\n",
    "The results of SOM on post window were bad than results of SOM on cal window"
   ]
  },
  {
   "cell_type": "code",
   "execution_count": null,
   "id": "8824692b",
   "metadata": {},
   "outputs": [],
   "source": []
  }
 ],
 "metadata": {
  "kernelspec": {
   "display_name": "Python 3 (ipykernel)",
   "language": "python",
   "name": "python3"
  },
  "language_info": {
   "codemirror_mode": {
    "name": "ipython",
    "version": 3
   },
   "file_extension": ".py",
   "mimetype": "text/x-python",
   "name": "python",
   "nbconvert_exporter": "python",
   "pygments_lexer": "ipython3",
   "version": "3.9.9"
  }
 },
 "nbformat": 4,
 "nbformat_minor": 5
}
