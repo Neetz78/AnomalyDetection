{
 "cells": [
  {
   "cell_type": "markdown",
   "id": "d054d121",
   "metadata": {},
   "source": [
    "# Import packages"
   ]
  },
  {
   "cell_type": "code",
   "execution_count": null,
   "id": "8e45e212",
   "metadata": {},
   "outputs": [],
   "source": [
    "import pandas as pd\n",
    "import matplotlib.pyplot as plt\n",
    "from minisom import MiniSom\n",
    "import numpy as np"
   ]
  },
  {
   "cell_type": "markdown",
   "id": "258025ab",
   "metadata": {},
   "source": [
    "# Import sample window"
   ]
  },
  {
   "cell_type": "code",
   "execution_count": null,
   "id": "47736b47",
   "metadata": {},
   "outputs": [],
   "source": [
    "un_sample=pd.read_csv('../../WindowedTimeSeries/un_sample.csv')\n",
    "ecd_sample=pd.read_csv('../../WindowedTimeSeries/ecd_sample.csv')\n",
    "syn_sample=pd.read_csv('../../WindowedTimeSeries/syn_sample.csv')"
   ]
  },
  {
   "cell_type": "markdown",
   "id": "b2663620",
   "metadata": {},
   "source": [
    "# Import pred files"
   ]
  },
  {
   "cell_type": "code",
   "execution_count": null,
   "id": "9130f784",
   "metadata": {},
   "outputs": [],
   "source": [
    "ecd_pred=pd.read_csv('../../RawDataPredictors/ECD_new.csv')\n",
    "ecd_syn_pred=pd.read_csv('../../RawDataPredictors/SyntheticECD.csv')\n",
    "un_pred=pd.read_csv('../../RawDataPredictors/Unsuccessful_new.csv')"
   ]
  },
  {
   "cell_type": "markdown",
   "id": "5a4a5c1c",
   "metadata": {},
   "source": [
    "# Loading data"
   ]
  },
  {
   "cell_type": "code",
   "execution_count": null,
   "id": "e727df67",
   "metadata": {},
   "outputs": [],
   "source": [
    "unsuccessful_sample=pd.concat([un_sample,ecd_sample,syn_sample],axis=0)\n",
    "unsuccessful_sample.shape"
   ]
  },
  {
   "cell_type": "code",
   "execution_count": null,
   "id": "90507442",
   "metadata": {},
   "outputs": [],
   "source": [
    "ts_list=unsuccessful_sample.iloc[:,1:].values.tolist()"
   ]
  },
  {
   "cell_type": "markdown",
   "id": "e31b03bf",
   "metadata": {},
   "source": [
    "# Calling minisom function"
   ]
  },
  {
   "cell_type": "code",
   "execution_count": null,
   "id": "ba2e35a1",
   "metadata": {},
   "outputs": [],
   "source": [
    "def minisom_func(ts_list,som_x,som_y,sigma,activation_distance,learning_rate,epochs,neighborhood_function):\n",
    "    som_x=som_x\n",
    "    som_y=som_y\n",
    "    som = MiniSom(som_x,som_y,len(ts_list[0]),sigma=sigma,learning_rate=learning_rate,activation_distance=activation_distance,neighborhood_function=neighborhood_function)\n",
    "    som.random_weights_init(ts_list)\n",
    "    print(\"Training...\")\n",
    "    som.train_random(ts_list,epochs) # random training\n",
    "    print(\"\\n...ready!\")\n",
    "\n",
    "    return som"
   ]
  },
  {
   "cell_type": "code",
   "execution_count": null,
   "id": "1f17b856",
   "metadata": {},
   "outputs": [],
   "source": [
    "parameters={'som_x':1,'som_y':2,'sigma':0.5,'activation_distance':'manhattan',\\\n",
    "            'learning_rate':0.01,'epochs':5000,'neighborhood_function':'gaussian'}\n",
    "som=minisom_func(ts_list,parameters['som_x'],parameters['som_y'],\\\n",
    "                     parameters['sigma'],parameters['activation_distance'],parameters['learning_rate'],parameters['epochs'],parameters['neighborhood_function'])"
   ]
  },
  {
   "cell_type": "code",
   "execution_count": null,
   "id": "774391cb",
   "metadata": {},
   "outputs": [],
   "source": [
    "\n",
    "win_map = som.win_map(ts_list)\n",
    "    \n",
    "cluster_c = []\n",
    "cluster_n = []\n",
    "\n",
    "for x in range(parameters['som_x']):\n",
    "    for y in range(parameters['som_y']):\n",
    "        cluster = (x,y)\n",
    "        if cluster in win_map.keys():\n",
    "            cluster_c.append(len(win_map[cluster]))\n",
    "        else:\n",
    "            cluster_c.append(0)\n",
    "        cluster_number = x*parameters['som_y']+y+1\n",
    "        cluster_n.append(f\"Cluster {cluster_number}\")\n",
    "\n",
    "plt.figure(figsize=(10,5))\n",
    "plt.title(\"Cluster Distribution for SOM\")\n",
    "plt.bar(cluster_n,cluster_c,width=0.5)\n",
    "plt.show()\n",
    "\n",
    "cluster_map = []\n",
    "for idx in range(len(ts_list)):\n",
    "    winner_node = som.winner(ts_list[idx])\n",
    "    cluster_number=winner_node[0]*parameters['som_y']+winner_node[1]+1\n",
    "    cluster_map.append(cluster_number)\n",
    "\n",
    "unsuccessful_sample['cluster']=cluster_map\n",
    "ecd_cluster=unsuccessful_sample.merge(ecd_sample,on='TestId')['cluster'].value_counts()/unsuccessful_sample.merge(ecd_sample,on='TestId')['cluster'].value_counts().sum()\n",
    "syn_cluster=unsuccessful_sample.merge(syn_sample,on='TestId')['cluster'].value_counts()/unsuccessful_sample.merge(syn_sample,on='TestId')['cluster'].value_counts().sum()\n",
    "un_cluster=unsuccessful_sample.merge(un_sample,on='TestId')['cluster'].value_counts()/unsuccessful_sample.merge(un_sample,on='TestId')['cluster'].value_counts().sum()"
   ]
  },
  {
   "cell_type": "code",
   "execution_count": null,
   "id": "a0bc44b1",
   "metadata": {},
   "outputs": [],
   "source": [
    "print(ecd_cluster,syn_cluster,un_cluster)"
   ]
  },
  {
   "cell_type": "markdown",
   "id": "3feeef80",
   "metadata": {},
   "source": [
    "## Results:\n",
    "The results of sample window are not good as cal window"
   ]
  }
 ],
 "metadata": {
  "kernelspec": {
   "display_name": "Python 3 (ipykernel)",
   "language": "python",
   "name": "python3"
  },
  "language_info": {
   "codemirror_mode": {
    "name": "ipython",
    "version": 3
   },
   "file_extension": ".py",
   "mimetype": "text/x-python",
   "name": "python",
   "nbconvert_exporter": "python",
   "pygments_lexer": "ipython3",
   "version": "3.9.9"
  }
 },
 "nbformat": 4,
 "nbformat_minor": 5
}
