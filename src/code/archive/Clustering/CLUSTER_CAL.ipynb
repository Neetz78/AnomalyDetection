{
 "cells": [
  {
   "cell_type": "markdown",
   "id": "6da641bd-bbd9-4e21-9d39-b5fc99d739f2",
   "metadata": {},
   "source": [
    "## Description\n",
    "\n",
    "This notebook tries to cluster the calibration window of the readings into 2 groups using kmeans with dynamic time warping as a distance measure. The results were bad with an equal proportion of unsuccessful and ECd errors in both clusters. We also tried this on the post ad sample windows with similar results. "
   ]
  },
  {
   "cell_type": "code",
   "execution_count": null,
   "id": "134b38f5-c4e3-4abd-8a44-b81006f7805e",
   "metadata": {},
   "outputs": [],
   "source": [
    "from tslearn.clustering import KShape, TimeSeriesKMeans, silhouette_score\n",
    "from tslearn.preprocessing import TimeSeriesScalerMeanVariance\n",
    "import matplotlib.pyplot as plt\n",
    "import numpy as np\n",
    "import pandas as pd"
   ]
  },
  {
   "cell_type": "code",
   "execution_count": null,
   "id": "1cde2ce0-d8c9-43c6-a01c-c5ccfc6122ab",
   "metadata": {},
   "outputs": [],
   "source": [
    "# These files can be generated using the pre-processing steps identified in the archive. \n",
    "un_ts = pd.read_csv('Data/Windowed Time Series/un_cal.csv')\n",
    "ecd_ts = pd.read_csv('Data/Windowed Time Series/ecd_cal.csv')"
   ]
  },
  {
   "cell_type": "code",
   "execution_count": null,
   "id": "b6f44ad6-ac00-4dfb-839d-d94590ca9300",
   "metadata": {},
   "outputs": [],
   "source": [
    "ecdids = ecd_ts['TestId']\n",
    "unids = un_ts['TestId']"
   ]
  },
  {
   "cell_type": "code",
   "execution_count": null,
   "id": "de3422b0-5308-4771-ac5d-f7953f3a1cad",
   "metadata": {},
   "outputs": [],
   "source": [
    "everything = pd.concat([un_ts, ecd_ts]).drop('TestId', axis = 1)"
   ]
  },
  {
   "cell_type": "code",
   "execution_count": null,
   "id": "70fb1a32-41b5-4b99-8911-8efcd709f254",
   "metadata": {},
   "outputs": [],
   "source": [
    "cmap = {\"ecd\":\"red\", \"un\":\"blue\"}\n",
    "ecd_lab = pd.Series(['ecd'])\n",
    "un_lab = pd.Series(['un'])\n",
    "x = un_lab.repeat(len(un_ts))\n",
    "y = ecd_lab.repeat(len(ecd_ts))\n",
    "labs = pd.concat([x, y])\n",
    "everything.reset_index(drop = True, inplace = True)\n",
    "#everything['labels'] = labs.reset_index(drop = True)"
   ]
  },
  {
   "cell_type": "code",
   "execution_count": null,
   "id": "f1292d5b-23db-49ad-9cdd-d8b71b73e324",
   "metadata": {},
   "outputs": [],
   "source": [
    "\n",
    "# For this method to operate properly, prior scaling is required\n",
    "X_train = TimeSeriesScalerMeanVariance().fit_transform(everything)\n",
    "sz = X_train.shape[1]\n",
    "\n",
    "\n",
    "# kShape clustering\n",
    "ks = TimeSeriesKMeans(n_clusters=2, verbose=True, random_state=0, metric = 'softdtw')\n",
    "y_pred = ks.fit_predict(X_train)"
   ]
  },
  {
   "cell_type": "code",
   "execution_count": null,
   "id": "4504857c-6032-461c-a2fc-db2d559e067e",
   "metadata": {},
   "outputs": [],
   "source": [
    "i"
   ]
  },
  {
   "cell_type": "code",
   "execution_count": null,
   "id": "e3c38b76-c323-4daf-a221-7acb2b6d6cbd",
   "metadata": {},
   "outputs": [],
   "source": []
  },
  {
   "cell_type": "code",
   "execution_count": null,
   "id": "14f513fe-8776-4997-8bf8-1fcb95e76a02",
   "metadata": {},
   "outputs": [],
   "source": [
    "y_pred"
   ]
  },
  {
   "cell_type": "code",
   "execution_count": null,
   "id": "aa614b7d-f4ac-44ca-96a6-36f73634bf44",
   "metadata": {},
   "outputs": [],
   "source": [
    "ecdkm = y_pred[labs == 'ecd']\n",
    "unkm = y_pred[labs == 'un']\n",
    "plt.hist(ecdkm)"
   ]
  },
  {
   "cell_type": "code",
   "execution_count": null,
   "id": "bb791312-608a-4fdf-b5d0-d9735a5f2783",
   "metadata": {},
   "outputs": [],
   "source": [
    "plt.hist(unkm)"
   ]
  },
  {
   "cell_type": "code",
   "execution_count": null,
   "id": "86e60d4d-29d2-464c-baf0-69c5c20bfcf0",
   "metadata": {},
   "outputs": [],
   "source": []
  }
 ],
 "metadata": {
  "kernelspec": {
   "display_name": "Python 3 (ipykernel)",
   "language": "python",
   "name": "python3"
  },
  "language_info": {
   "codemirror_mode": {
    "name": "ipython",
    "version": 3
   },
   "file_extension": ".py",
   "mimetype": "text/x-python",
   "name": "python",
   "nbconvert_exporter": "python",
   "pygments_lexer": "ipython3",
   "version": "3.9.9"
  }
 },
 "nbformat": 4,
 "nbformat_minor": 5
}
