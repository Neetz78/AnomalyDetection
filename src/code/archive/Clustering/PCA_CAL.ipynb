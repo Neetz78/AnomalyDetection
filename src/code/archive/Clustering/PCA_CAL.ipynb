{
 "cells": [
  {
   "cell_type": "markdown",
   "id": "564d48d3-6e9a-46da-8dba-a9e8fae667b3",
   "metadata": {},
   "source": [
    "## **Description** \n",
    "\n",
    "This notebook runs a PCA on the calibration window from the standardized waveforms to get a 2D visualization. This revealed a lack of separation between unsuccessful and ECDs. The process was repeated for un-standardized, and normalized, as well as the other windows, all yielding the same results. "
   ]
  },
  {
   "cell_type": "code",
   "execution_count": null,
   "id": "59f12274-496c-494a-b4be-ffd57459702a",
   "metadata": {},
   "outputs": [],
   "source": [
    "from sklearn.decomposition import PCA\n",
    "from sklearn.preprocessing import StandardScaler\n",
    "import matplotlib.pyplot as plt\n",
    "import numpy as np\n",
    "import pandas as pd\n",
    "import altair as alt"
   ]
  },
  {
   "cell_type": "code",
   "execution_count": null,
   "id": "18286b39-1a47-4df1-ba5d-670f97087919",
   "metadata": {},
   "outputs": [],
   "source": [
    "un_ts = pd.read_csv('/Users/saral/OneDrive - UBC/MDS/Capstone/Code + Data/Data/Windowed Time Series/un_cal.csv')\n",
    "ecd_ts = pd.read_csv('/Users/saral/OneDrive - UBC/MDS/Capstone/Code + Data/Data/Windowed Time Series/ecd_cal.csv')"
   ]
  },
  {
   "cell_type": "code",
   "execution_count": null,
   "id": "5f5e43e4-ba9d-4a88-918d-704a2dc31223",
   "metadata": {},
   "outputs": [],
   "source": [
    "pcids = ecd_ts['TestId']\n",
    "unids = un_ts['TestId']"
   ]
  },
  {
   "cell_type": "code",
   "execution_count": null,
   "id": "d451f9ec-c20b-4239-a328-b3b54c0934c8",
   "metadata": {},
   "outputs": [],
   "source": [
    "everything = pd.concat([un_ts, ecd_ts]).drop('TestId', axis = 1)"
   ]
  },
  {
   "cell_type": "code",
   "execution_count": null,
   "id": "5e243047-1d16-4859-bec2-bd867b4a50be",
   "metadata": {},
   "outputs": [],
   "source": [
    "cmap = {\"pc\":\"red\", \"un\":\"blue\"}\n",
    "ecd_lab = pd.Series(['pc'])\n",
    "un_lab = pd.Series(['un'])\n",
    "x = un_lab.repeat(len(un_ts))\n",
    "y = ecd_lab.repeat(len(ecd_ts))\n",
    "labs = pd.concat([x, y])\n",
    "everything.reset_index(drop = True, inplace = True)\n",
    "#everything['labels'] = labs.reset_index(drop = True)"
   ]
  },
  {
   "cell_type": "code",
   "execution_count": null,
   "id": "b6e89355-8cdb-4491-8c54-4b341ede148f",
   "metadata": {},
   "outputs": [],
   "source": [
    "x = StandardScaler().fit_transform(everything)\n",
    "pca = PCA(n_components=2)\n",
    "pca.fit(x)"
   ]
  },
  {
   "cell_type": "code",
   "execution_count": null,
   "id": "8b9977eb-95b6-45ec-9cb0-06d1727cac2e",
   "metadata": {},
   "outputs": [],
   "source": [
    "print(pca.explained_variance_ratio_)"
   ]
  },
  {
   "cell_type": "code",
   "execution_count": null,
   "id": "beab6299-375f-49d9-9fb2-f2e424d4e7ed",
   "metadata": {},
   "outputs": [],
   "source": [
    "from sklearn.decomposition import PCA\n",
    "pca = PCA(n_components=0.95)\n",
    "principalComponents = pca.fit_transform(StandardScaler().fit_transform(everything))\n",
    "principalDf = pd.DataFrame(data = principalComponents, columns = ['Component '+ str(i+1) for i in range(pca.n_components_)])"
   ]
  },
  {
   "cell_type": "code",
   "execution_count": null,
   "id": "d3201725-4646-41f1-9832-56baa146d72d",
   "metadata": {},
   "outputs": [],
   "source": [
    "principalDf['label'] = labs.reset_index(drop=True)\n",
    "principalDf"
   ]
  },
  {
   "cell_type": "code",
   "execution_count": null,
   "id": "76e5d892-fc53-413a-9baf-a678f335128c",
   "metadata": {},
   "outputs": [],
   "source": [
    "finalDf = principalDf\n",
    "fig = plt.figure(figsize = (8,8))\n",
    "ax = fig.add_subplot(1,1,1) \n",
    "ax.set_xlabel('Principal Component 1', fontsize = 15)\n",
    "ax.set_ylabel('Principal Component 2', fontsize = 15)\n",
    "ax.set_title('2 component PCA', fontsize = 20)\n",
    "targets = ['un', 'pc']\n",
    "colors = ['b', 'r']\n",
    "for target, color in zip(targets,colors):\n",
    "    indicesToKeep = finalDf['label'] == target\n",
    "    ax.scatter(finalDf.loc[indicesToKeep, 'Component 1']\n",
    "               , finalDf.loc[indicesToKeep, 'Component 2']\n",
    "               , c = color\n",
    "               , s = 50)\n",
    "ax.legend(targets)\n",
    "ax.grid()"
   ]
  },
  {
   "cell_type": "code",
   "execution_count": null,
   "id": "b86bf619-d572-4c38-ba06-ebb71ef58a7d",
   "metadata": {},
   "outputs": [],
   "source": []
  },
  {
   "cell_type": "code",
   "execution_count": null,
   "id": "587feb32-0f88-4103-ab87-a6639d6f5020",
   "metadata": {},
   "outputs": [],
   "source": [
    "# The matrix of variable loadings (i.e., matrix whose columns contain the eigenvectors)\n",
    "# The eigenvectos provide the coefficients for the linear combo\n",
    "rotation = pd.DataFrame(pca.components_, columns = everything.columns).T\n",
    "rotation.columns = [f\"ecd_{i}\" for i in range(1, len(pca.components_) + 1)]\n",
    "rotation\n",
    "rotation.sort_values(by=['ecd_2'], key = abs, ascending = False).head(30)[['ecd_2']]"
   ]
  },
  {
   "cell_type": "code",
   "execution_count": null,
   "id": "97947d90-e843-4e25-8ae6-01051254e39d",
   "metadata": {},
   "outputs": [],
   "source": [
    "plt.plot(np.arange(-15, -3, 0.2),rotation['ecd_1'], label = 'Eigenvector 1')\n",
    "plt.plot(np.arange(-15,-3,0.2),rotation['ecd_2'], label = 'Eigenvector 2')\n",
    "plt.legend()"
   ]
  },
  {
   "cell_type": "markdown",
   "id": "efe46f49-742b-4f7f-b0e3-563df11fa45b",
   "metadata": {},
   "source": [
    "# Run PCA on transpose to get components that represent the majority of variance at each time point"
   ]
  },
  {
   "cell_type": "code",
   "execution_count": null,
   "id": "69bb0ddd-df8b-46da-8310-910e33c52b50",
   "metadata": {},
   "outputs": [],
   "source": [
    "x = ecd_ts.iloc[:,1:].transpose()\n",
    "x = StandardScaler().fit_transform(x)\n",
    "pca = PCA()\n",
    "PrincipalComponents = pca.fit_transform(x)"
   ]
  },
  {
   "cell_type": "code",
   "execution_count": null,
   "id": "0f524e04-b6c1-4716-81d0-f4d6ae04509d",
   "metadata": {},
   "outputs": [],
   "source": [
    "pcadf = pd.DataFrame(data = PrincipalComponents, columns = ['Component '+ str(i+1) for i in range(pca.n_components_)])"
   ]
  },
  {
   "cell_type": "code",
   "execution_count": null,
   "id": "f1e5ab7d-7329-4d1a-b303-6e29151999d5",
   "metadata": {},
   "outputs": [],
   "source": [
    "fig, axs = plt.subplots(1, len(pcadf.columns)-1, figsize=((len(pcadf.columns)-1)*2, 2))\n",
    "for i in range(len(pcadf.columns)-1):\n",
    "    axs[i].plot(pcadf.iloc[:,i])"
   ]
  },
  {
   "cell_type": "code",
   "execution_count": null,
   "id": "3714d2fe-9d9d-466c-99a7-61ca3f403c86",
   "metadata": {},
   "outputs": [],
   "source": [
    "x = un_ts.iloc[:,1:].transpose()\n",
    "pca = PCA()\n",
    "PrincipalComponents = pca.fit_transform(x)"
   ]
  },
  {
   "cell_type": "code",
   "execution_count": null,
   "id": "7c4e0797-fa8e-4d0a-8aee-73be6d8914e3",
   "metadata": {},
   "outputs": [],
   "source": [
    "pcadf = pd.DataFrame(data = PrincipalComponents, columns = ['Component '+ str(i+1) for i in range(pca.n_components_)])"
   ]
  },
  {
   "cell_type": "code",
   "execution_count": null,
   "id": "ac56728e-27c7-44c9-bb52-8774c0206742",
   "metadata": {},
   "outputs": [],
   "source": [
    "fig, axs = plt.subplots(1, len(pcadf.columns)-1, figsize=((len(pcadf.columns)-1)*2, 2))\n",
    "for i in range(len(pcadf.columns)-1):\n",
    "    axs[i].plot(pcadf.iloc[:,i])"
   ]
  },
  {
   "cell_type": "code",
   "execution_count": null,
   "id": "eb724202-3375-40d5-86b4-a0bf9305d3e5",
   "metadata": {},
   "outputs": [],
   "source": []
  }
 ],
 "metadata": {
  "kernelspec": {
   "display_name": "Python 3 (ipykernel)",
   "language": "python",
   "name": "python3"
  },
  "language_info": {
   "codemirror_mode": {
    "name": "ipython",
    "version": 3
   },
   "file_extension": ".py",
   "mimetype": "text/x-python",
   "name": "python",
   "nbconvert_exporter": "python",
   "pygments_lexer": "ipython3",
   "version": "3.9.9"
  }
 },
 "nbformat": 4,
 "nbformat_minor": 5
}
