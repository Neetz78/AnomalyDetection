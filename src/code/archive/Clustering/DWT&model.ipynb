{
 "cells": [
  {
   "cell_type": "markdown",
   "id": "e6b46d19",
   "metadata": {},
   "source": [
    "### DWT and modelling"
   ]
  },
  {
   "cell_type": "markdown",
   "id": "aa1ddc67",
   "metadata": {},
   "source": [
    "This notebook contains DWT(discrete wavelet transform) filtering technique and clustering perfomred over the filtered waveform."
   ]
  },
  {
   "cell_type": "code",
   "execution_count": null,
   "id": "b3d3c315",
   "metadata": {},
   "outputs": [],
   "source": [
    "from standardize import *"
   ]
  },
  {
   "cell_type": "code",
   "execution_count": null,
   "id": "35b45d17-7105-439f-b1f2-a50e0ce16d42",
   "metadata": {},
   "outputs": [],
   "source": [
    "import pandas as pd"
   ]
  },
  {
   "cell_type": "code",
   "execution_count": null,
   "id": "a7eb554c-bc77-4690-b19c-fc0ebc7e4356",
   "metadata": {},
   "outputs": [],
   "source": [
    "udata = pd.read_csv(\"/Users/neethug/Desktop/Neethu/Course/DATA599/Project/finaldata/Windowed Time Series/un_cal.csv\")\n",
    "pdata = pd.read_csv(\"/Users/neethug/Desktop/Neethu/Course/DATA599/Project/finaldata/Windowed Time Series/ecd_cal.csv\")"
   ]
  },
  {
   "cell_type": "code",
   "execution_count": null,
   "id": "fa31f1aa-299e-4d1a-8e04-6bf9d41923f5",
   "metadata": {},
   "outputs": [],
   "source": [
    "pdata['Label'] = \"ECD\""
   ]
  },
  {
   "cell_type": "code",
   "execution_count": null,
   "id": "7d2c0511-abb3-46e7-a9ec-43c1586ea749",
   "metadata": {},
   "outputs": [],
   "source": [
    "udata['Label'] = \"UnSuccessful\""
   ]
  },
  {
   "cell_type": "code",
   "execution_count": null,
   "id": "e270afdc-b866-4f39-be9b-aae5cccaeaf9",
   "metadata": {},
   "outputs": [],
   "source": [
    "data = pd.concat([pdata,udata])"
   ]
  },
  {
   "cell_type": "code",
   "execution_count": null,
   "id": "1ec49d5b-40b8-49b9-a7f9-8c6629f8c37a",
   "metadata": {},
   "outputs": [],
   "source": [
    "data[data['TestId'] == 9610462]"
   ]
  },
  {
   "cell_type": "code",
   "execution_count": null,
   "id": "502dddae-2dbb-45db-ada9-7a2d136ef450",
   "metadata": {},
   "outputs": [],
   "source": [
    "data[data['TestId'] == 9610647]"
   ]
  },
  {
   "cell_type": "code",
   "execution_count": null,
   "id": "60d49472-141d-4d97-b40c-f8e6a7d03899",
   "metadata": {},
   "outputs": [],
   "source": [
    "data = data.drop([data.index[140] , data.index[141]])"
   ]
  },
  {
   "cell_type": "code",
   "execution_count": null,
   "id": "6de057be-7180-4e39-824a-ce25228623bd",
   "metadata": {},
   "outputs": [],
   "source": [
    "data = data.reset_index()"
   ]
  },
  {
   "cell_type": "code",
   "execution_count": null,
   "id": "b37ee925-f725-4cfd-9b55-0a01f4752bd6",
   "metadata": {},
   "outputs": [],
   "source": [
    "data.drop('index', axis=1, inplace=True)"
   ]
  },
  {
   "cell_type": "code",
   "execution_count": null,
   "id": "ce93479d-85d7-4e63-9f50-ac8e83d8a400",
   "metadata": {},
   "outputs": [],
   "source": [
    "bool_series = data['TestId'].duplicated()\n",
    "bool_series.value_counts()"
   ]
  },
  {
   "cell_type": "code",
   "execution_count": null,
   "id": "b46b3c86-53fb-4018-8bde-00592c07b569",
   "metadata": {},
   "outputs": [],
   "source": [
    "A = data.iloc[:,1:-1]"
   ]
  },
  {
   "cell_type": "markdown",
   "id": "e0620382-9799-4c88-8dff-28d62f9d5e16",
   "metadata": {},
   "source": [
    "### Discrete Fourier transform"
   ]
  },
  {
   "cell_type": "code",
   "execution_count": null,
   "id": "e620543a-863c-4252-9097-0b29fd3cdd3d",
   "metadata": {},
   "outputs": [],
   "source": [
    "from scipy.fft import fft, ifft"
   ]
  },
  {
   "cell_type": "code",
   "execution_count": null,
   "id": "95bbf020-2573-4e7a-9c60-3b9a4b1905f2",
   "metadata": {},
   "outputs": [],
   "source": [
    "y = fft(A)"
   ]
  },
  {
   "cell_type": "code",
   "execution_count": null,
   "id": "2dc31a11-ce60-4aac-864d-1cc9200f73e7",
   "metadata": {},
   "outputs": [],
   "source": [
    "df = pd. DataFrame(abs(y))"
   ]
  },
  {
   "cell_type": "code",
   "execution_count": null,
   "id": "f9a9fa10-8684-46f2-9aeb-1e217dae14ee",
   "metadata": {},
   "outputs": [],
   "source": [
    "df"
   ]
  },
  {
   "cell_type": "code",
   "execution_count": null,
   "id": "16732d97-1ae2-48f0-9393-2c6f3a890b4d",
   "metadata": {},
   "outputs": [],
   "source": [
    "df['TestId'] = data['TestId']"
   ]
  },
  {
   "cell_type": "code",
   "execution_count": null,
   "id": "c33c72d5-bce3-4f48-8050-25ef0f9ca8ec",
   "metadata": {},
   "outputs": [],
   "source": [
    "df['Label'] = data['Label']"
   ]
  },
  {
   "cell_type": "code",
   "execution_count": null,
   "id": "c66880f0-03d1-4cb5-8901-667a6da1d5e1",
   "metadata": {},
   "outputs": [],
   "source": [
    "df"
   ]
  },
  {
   "cell_type": "code",
   "execution_count": null,
   "id": "470c3375-8244-4f31-a395-0f337fb53d83",
   "metadata": {},
   "outputs": [],
   "source": [
    "A[0]"
   ]
  },
  {
   "cell_type": "code",
   "execution_count": null,
   "id": "6c1aa738-4946-4c4a-88ec-53e48fef6888",
   "metadata": {},
   "outputs": [],
   "source": [
    "### finding peaks"
   ]
  },
  {
   "cell_type": "code",
   "execution_count": null,
   "id": "206eac7e-d3f7-4cd6-84aa-ea6caa2e837f",
   "metadata": {},
   "outputs": [],
   "source": [
    "from scipy.signal import find_peaks"
   ]
  },
  {
   "cell_type": "code",
   "execution_count": null,
   "id": "6809b68b-2b4c-4398-9c2b-ad9550ed1f2e",
   "metadata": {},
   "outputs": [],
   "source": [
    "peaks = find_peaks(A[0], height=0)"
   ]
  },
  {
   "cell_type": "code",
   "execution_count": null,
   "id": "097d86f5-6e97-4618-8b74-3fcade5d908d",
   "metadata": {},
   "outputs": [],
   "source": []
  },
  {
   "cell_type": "code",
   "execution_count": null,
   "id": "b1a87bc4-e0f7-4148-a9bd-b5d3bc197b3d",
   "metadata": {},
   "outputs": [],
   "source": [
    "import altair as alt\n",
    "alt.data_transformers.disable_max_rows()"
   ]
  },
  {
   "cell_type": "code",
   "execution_count": null,
   "id": "d611276f-5e6f-4111-b18e-d4cd8ff2743e",
   "metadata": {},
   "outputs": [],
   "source": []
  },
  {
   "cell_type": "code",
   "execution_count": null,
   "id": "099dfd45-a4a1-4d63-9ef9-b9db0646fad0",
   "metadata": {},
   "outputs": [],
   "source": [
    "alt.Chart(df).mark_circle(size=60).encode(\n",
    "    x='DFT1',\n",
    "    y='DFT2',\n",
    "    color = 'Label',\n",
    "    tooltip=['TestId']\n",
    ")"
   ]
  },
  {
   "cell_type": "markdown",
   "id": "125ac0b1-7a4d-40f5-ba46-cfec353cd59f",
   "metadata": {},
   "source": [
    "## Fourier transform works when no variation in time happens, when we are in the frequency-domain we lose this dependency\n",
    "\n",
    "In some way we can think of the Fourier transform as a trade-off between time information and frequency information. By taking a FT of a time signal, all time information is lost in return for frequency information"
   ]
  },
  {
   "cell_type": "markdown",
   "id": "44b0ba03-e1ac-427a-9508-d6a902c7dd81",
   "metadata": {},
   "source": [
    "## Discrete Wavelet Transform"
   ]
  },
  {
   "cell_type": "markdown",
   "id": "3df6cb20-7ffe-4add-ac69-243c630e7e39",
   "metadata": {},
   "source": [
    "This considers both frequency and time aspects of the waveform ,\n",
    "A discrete wavelet transform (DWT) is a transform that decomposes a given signal into a number of sets, where each set is a time series of coefficients describing the time evolution of the signal in the corresponding frequency band."
   ]
  },
  {
   "cell_type": "code",
   "execution_count": null,
   "id": "37cbdb19-0695-4d6b-bb8f-ac3be9d91f03",
   "metadata": {},
   "outputs": [],
   "source": [
    "import pywt"
   ]
  },
  {
   "cell_type": "code",
   "execution_count": null,
   "id": "584642bb-76f4-4dc3-aa73-3a3637c86f12",
   "metadata": {},
   "outputs": [],
   "source": [
    "res, res1 = pywt.dwt(A,wavelet='Haar')"
   ]
  },
  {
   "cell_type": "code",
   "execution_count": null,
   "id": "aa9a9a5f-fab1-44fc-bb21-bc82e78172bb",
   "metadata": {},
   "outputs": [],
   "source": [
    "res"
   ]
  },
  {
   "cell_type": "code",
   "execution_count": null,
   "id": "782396c2-e8b0-4e6e-8580-b1ed15d9eb3e",
   "metadata": {},
   "outputs": [],
   "source": [
    "len(res1)"
   ]
  },
  {
   "cell_type": "code",
   "execution_count": null,
   "id": "21fdd86a-328e-4fb5-aed9-c60f510e13fc",
   "metadata": {},
   "outputs": [],
   "source": [
    "df2 = pd.DataFrame(res1)"
   ]
  },
  {
   "cell_type": "code",
   "execution_count": null,
   "id": "7d80be49-5cc9-4328-a9e9-59d9818c777c",
   "metadata": {},
   "outputs": [],
   "source": [
    "df2"
   ]
  },
  {
   "cell_type": "code",
   "execution_count": null,
   "id": "1da9e721-cf7a-489e-8f6c-4951f673b86f",
   "metadata": {},
   "outputs": [],
   "source": [
    "df2['TestId'] = data['TestId']"
   ]
  },
  {
   "cell_type": "code",
   "execution_count": null,
   "id": "f8498090-4fba-44eb-8957-4cd6aed62a31",
   "metadata": {},
   "outputs": [],
   "source": [
    "df2['Label'] = data['Label']"
   ]
  },
  {
   "cell_type": "code",
   "execution_count": null,
   "id": "6dfa03ac-0794-4086-acec-449b22f7e572",
   "metadata": {},
   "outputs": [],
   "source": [
    "df2"
   ]
  },
  {
   "cell_type": "code",
   "execution_count": null,
   "id": "7c233beb-226d-44ec-9b74-02ef14b381ac",
   "metadata": {},
   "outputs": [],
   "source": [
    "from sklearn.model_selection import train_test_split\n",
    "from sklearn.metrics import classification_report, confusion_matrix, accuracy_score\n",
    "from sklearn.ensemble import RandomForestClassifier\n",
    "from sklearn import model_selection\n",
    "from sklearn import metrics"
   ]
  },
  {
   "cell_type": "code",
   "execution_count": null,
   "id": "86118965-c241-4365-8b2a-f9c1747d8fd2",
   "metadata": {},
   "outputs": [],
   "source": [
    "X = df2.iloc[:,0:30]\n",
    "Y = df2.iloc[:,-1]"
   ]
  },
  {
   "cell_type": "code",
   "execution_count": null,
   "id": "dc87bbff-9aac-4695-866e-080f8b44882a",
   "metadata": {},
   "outputs": [],
   "source": [
    "X_train, X_test, Y_train, Y_test = train_test_split(X, Y, test_size=0.2, random_state=42, shuffle = True)"
   ]
  },
  {
   "cell_type": "code",
   "execution_count": null,
   "id": "a6d89c6b-00b7-40d4-a971-72297f2716e2",
   "metadata": {},
   "outputs": [],
   "source": [
    "res = RandomForestClassifier(n_estimators=100)\n",
    "res.fit(X_train,Y_train)"
   ]
  },
  {
   "cell_type": "code",
   "execution_count": null,
   "id": "bce7a7bb-55c5-4753-9087-0bf04bb2e75e",
   "metadata": {},
   "outputs": [],
   "source": [
    "Y_pred=res.predict(X_train)"
   ]
  },
  {
   "cell_type": "code",
   "execution_count": null,
   "id": "d4254b1b-4918-477c-b06d-6fe4be496e5d",
   "metadata": {},
   "outputs": [],
   "source": [
    "print(metrics.confusion_matrix(Y_train, Y_pred))"
   ]
  },
  {
   "cell_type": "code",
   "execution_count": null,
   "id": "693820d9-d1f5-49de-95a6-0688ef7814c2",
   "metadata": {},
   "outputs": [],
   "source": [
    "Y_pred1=res.predict(X_test)"
   ]
  },
  {
   "cell_type": "code",
   "execution_count": null,
   "id": "a04875f1-4880-4cbb-b6a1-8a52744e0871",
   "metadata": {},
   "outputs": [],
   "source": [
    "print(metrics.confusion_matrix(Y_test, Y_pred1))"
   ]
  },
  {
   "cell_type": "code",
   "execution_count": null,
   "id": "3cefa0b5-a21c-4770-a605-1e3882c2c05a",
   "metadata": {},
   "outputs": [],
   "source": [
    "print(classification_report(Y_test, Y_pred1))"
   ]
  },
  {
   "cell_type": "markdown",
   "id": "34acb6c3-fd3d-4338-9497-8a1f1c53a0a5",
   "metadata": {},
   "source": [
    "#### we saw a single level decoimposition above now lets see a three level decomposition"
   ]
  },
  {
   "cell_type": "code",
   "execution_count": null,
   "id": "42ccb116-3f0b-4320-948c-dc926f9747e6",
   "metadata": {},
   "outputs": [],
   "source": [
    "import matplotlib.pyplot as plt\n",
    "data = A\n",
    "waveletname = 'haar'\n",
    " \n",
    "fig, axarr = plt.subplots(nrows=3, ncols=2, figsize=(6,6))\n",
    "for ii in range(3):\n",
    "    (data, coeff_d) = pywt.dwt(data, waveletname)\n",
    "    axarr[ii, 0].plot(data, 'r')\n",
    "    axarr[ii, 1].plot(coeff_d, 'g')\n",
    "    axarr[ii, 0].set_ylabel(\"Level {}\".format(ii + 1), fontsize=14, rotation=90)\n",
    "    axarr[ii, 0].set_yticklabels([])\n",
    "    if ii == 0:\n",
    "        axarr[ii, 0].set_title(\"Approximation coefficients\", fontsize=14)\n",
    "        axarr[ii, 1].set_title(\"Detail coefficients\", fontsize=14)\n",
    "    axarr[ii, 1].set_yticklabels([])\n",
    "plt.tight_layout()\n",
    "plt.show()"
   ]
  },
  {
   "cell_type": "code",
   "execution_count": null,
   "id": "3246afc9-fa8c-4416-9517-054630902a02",
   "metadata": {},
   "outputs": [],
   "source": [
    "res, res2 = pywt.dwt(res,wavelet='Haar')"
   ]
  },
  {
   "cell_type": "code",
   "execution_count": null,
   "id": "02b86fa6-6458-46a4-b735-85d8a6d94f40",
   "metadata": {},
   "outputs": [],
   "source": [
    "res, res3 = pywt.dwt(res,wavelet='Haar')"
   ]
  },
  {
   "cell_type": "code",
   "execution_count": null,
   "id": "4e43c1cb-2987-4a7d-b889-09d9ba26d7e2",
   "metadata": {},
   "outputs": [],
   "source": [
    "test = pd.DataFrame(res3)"
   ]
  },
  {
   "cell_type": "code",
   "execution_count": null,
   "id": "3ec9dd06-fb98-45dc-a57a-b277de89fa1e",
   "metadata": {},
   "outputs": [],
   "source": [
    "test"
   ]
  },
  {
   "cell_type": "code",
   "execution_count": null,
   "id": "fdb9496a-477f-4334-b8a9-b6710959bf8c",
   "metadata": {},
   "outputs": [],
   "source": [
    "test['TestId'] = df2['TestId']"
   ]
  },
  {
   "cell_type": "code",
   "execution_count": null,
   "id": "7e9e03d9-1ca6-4ea9-a301-20d6bc694744",
   "metadata": {},
   "outputs": [],
   "source": [
    "test['Label'] = df2['Label']"
   ]
  },
  {
   "cell_type": "code",
   "execution_count": null,
   "id": "3d135f30-e4e5-4c30-bb96-62369d3ed7af",
   "metadata": {},
   "outputs": [],
   "source": [
    "test"
   ]
  },
  {
   "cell_type": "code",
   "execution_count": null,
   "id": "73f5a527-bd96-458a-a7e9-8498923741ff",
   "metadata": {},
   "outputs": [],
   "source": [
    "X1 = test.iloc[:,0:8]\n",
    "Y1 = df2.iloc[:,-1]"
   ]
  },
  {
   "cell_type": "code",
   "execution_count": null,
   "id": "c85d7717-ae2c-42c9-a865-743bf8ee67e6",
   "metadata": {},
   "outputs": [],
   "source": [
    "X_train, X_test, Y_train, Y_test = train_test_split(X1, Y1, test_size=0.2, random_state=42, shuffle = True)"
   ]
  },
  {
   "cell_type": "code",
   "execution_count": null,
   "id": "fd686fd2-4b4e-45db-8b53-a96ba2507c55",
   "metadata": {},
   "outputs": [],
   "source": [
    "mod = RandomForestClassifier(n_estimators=100)\n",
    "mod.fit(X_train,Y_train)"
   ]
  },
  {
   "cell_type": "code",
   "execution_count": null,
   "id": "7d59e076-ad86-4e76-a8a0-78c27369611e",
   "metadata": {},
   "outputs": [],
   "source": [
    "Y_pred=mod.predict(X_train)"
   ]
  },
  {
   "cell_type": "code",
   "execution_count": null,
   "id": "ac7b3acb-a4ee-4795-a539-e1630a9a5856",
   "metadata": {},
   "outputs": [],
   "source": [
    "print(metrics.confusion_matrix(Y_train, Y_pred))"
   ]
  },
  {
   "cell_type": "code",
   "execution_count": null,
   "id": "5a03d41f-831c-4d8d-bdca-48846a267e9e",
   "metadata": {},
   "outputs": [],
   "source": [
    "Y_pred1=mod.predict(X_test)"
   ]
  },
  {
   "cell_type": "code",
   "execution_count": null,
   "id": "4c244096-a29f-4b36-b8a2-fce2d7d58e70",
   "metadata": {},
   "outputs": [],
   "source": [
    "print(metrics.confusion_matrix(Y_test, Y_pred1))"
   ]
  },
  {
   "cell_type": "code",
   "execution_count": null,
   "id": "88952a10-17ad-4c50-a3ff-f3f472f7b101",
   "metadata": {},
   "outputs": [],
   "source": [
    "print(classification_report(Y_test, Y_pred1))"
   ]
  },
  {
   "cell_type": "markdown",
   "id": "eba58123-4a8e-4fdf-bdfa-025849a01603",
   "metadata": {},
   "source": [
    "## did we dilute the data???"
   ]
  },
  {
   "cell_type": "markdown",
   "id": "b3950b13-bb92-4b84-9bbb-f618ec423c92",
   "metadata": {},
   "source": [
    "#### Lets use other different clustering models to see"
   ]
  },
  {
   "cell_type": "code",
   "execution_count": null,
   "id": "4b4c51e8-6db2-48e0-95b4-489b4686c711",
   "metadata": {},
   "outputs": [],
   "source": [
    "##Affinity propagation\n",
    "\n",
    "from sklearn.cluster import AffinityPropagation"
   ]
  },
  {
   "cell_type": "code",
   "execution_count": null,
   "id": "3f694a68-78ed-4a0f-ac50-4d65dbd62581",
   "metadata": {},
   "outputs": [],
   "source": [
    "model = AffinityPropagation(damping=0.9)"
   ]
  },
  {
   "cell_type": "code",
   "execution_count": null,
   "id": "62a1486c-19e6-4393-971f-db86bd1875ec",
   "metadata": {},
   "outputs": [],
   "source": [
    "model.fit(X_train)"
   ]
  },
  {
   "cell_type": "code",
   "execution_count": null,
   "id": "a6b5d2d0-60ce-487a-8d25-3d42ba153c6e",
   "metadata": {},
   "outputs": [],
   "source": [
    "yhat = model.predict(X_test)"
   ]
  },
  {
   "cell_type": "code",
   "execution_count": null,
   "id": "6f074961-7e15-48e9-8d30-9aed77ee998b",
   "metadata": {},
   "outputs": [],
   "source": [
    "yhat"
   ]
  },
  {
   "cell_type": "code",
   "execution_count": null,
   "id": "033874a4-0361-4351-a16a-a5a9a0daa4d3",
   "metadata": {},
   "outputs": [],
   "source": []
  }
 ],
 "metadata": {
  "kernelspec": {
   "display_name": "Python 3 (ipykernel)",
   "language": "python",
   "name": "python3"
  },
  "language_info": {
   "codemirror_mode": {
    "name": "ipython",
    "version": 3
   },
   "file_extension": ".py",
   "mimetype": "text/x-python",
   "name": "python",
   "nbconvert_exporter": "python",
   "pygments_lexer": "ipython3",
   "version": "3.9.9"
  }
 },
 "nbformat": 4,
 "nbformat_minor": 5
}
