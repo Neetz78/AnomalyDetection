{
 "cells": [
  {
   "cell_type": "markdown",
   "id": "f340f2ad",
   "metadata": {},
   "source": [
    "### LSTM model for anomaly detection"
   ]
  },
  {
   "cell_type": "code",
   "execution_count": null,
   "id": "4035101e",
   "metadata": {},
   "outputs": [],
   "source": [
    "This notebook cotains the LSTM model used along with autoencoder to detect anomalies in this case being ECD fromot"
   ]
  },
  {
   "cell_type": "code",
   "execution_count": null,
   "id": "7f3a2555",
   "metadata": {},
   "outputs": [],
   "source": [
    "import pandas as pd"
   ]
  },
  {
   "cell_type": "code",
   "execution_count": null,
   "id": "7003519e-1d5f-4d2c-923b-3390326edec6",
   "metadata": {},
   "outputs": [],
   "source": [
    "udata = pd.read_csv(\"/Users/neethug/Desktop/Neethu/Course/DATA599/Project/finaldata/Windowed Time Series/un_cal.csv\")\n",
    "pdata = pd.read_csv(\"/Users/neethug/Desktop/Neethu/Course/DATA599/Project/finaldata/Windowed Time Series/ECD_cal.csv\")"
   ]
  },
  {
   "cell_type": "code",
   "execution_count": null,
   "id": "8c72ca64-6a7a-41fe-bc96-ca673711d206",
   "metadata": {},
   "outputs": [],
   "source": [
    "pdata['Label'] = \"ECD\""
   ]
  },
  {
   "cell_type": "code",
   "execution_count": null,
   "id": "4f6693d3-9520-4e98-b171-38e242b3e54e",
   "metadata": {},
   "outputs": [],
   "source": [
    "udata['Label'] = \"Unsuccessful\""
   ]
  },
  {
   "cell_type": "code",
   "execution_count": null,
   "id": "fec7630f-b7ef-46f3-ba23-7ebe617f3540",
   "metadata": {},
   "outputs": [],
   "source": [
    "data = pd.concat([udata,pdata])"
   ]
  },
  {
   "cell_type": "code",
   "execution_count": null,
   "id": "387bcd1f-c500-46bc-8534-519a2034975c",
   "metadata": {},
   "outputs": [],
   "source": [
    "data['Label'].value_counts()"
   ]
  },
  {
   "cell_type": "code",
   "execution_count": null,
   "id": "7c7681c9-6e21-41b1-9495-ce29c1c67ad1",
   "metadata": {},
   "outputs": [],
   "source": [
    "### we will consider all unsuccessful waveforms for training the model."
   ]
  },
  {
   "cell_type": "code",
   "execution_count": null,
   "id": "c486f77d-bc50-45a4-8aa1-b155c8948f01",
   "metadata": {},
   "outputs": [],
   "source": [
    "un_data = udata.iloc[:,1:-1]"
   ]
  },
  {
   "cell_type": "code",
   "execution_count": null,
   "id": "a060cf5d-7a81-4e6a-9d93-7b907985fe86",
   "metadata": {},
   "outputs": [],
   "source": [
    "un_data.shape"
   ]
  },
  {
   "cell_type": "code",
   "execution_count": null,
   "id": "bbb295f4-2fd3-4946-aec4-68ca1e6aabe6",
   "metadata": {},
   "outputs": [],
   "source": [
    "ECD_data = pdata.iloc[:,1:-1]"
   ]
  },
  {
   "cell_type": "code",
   "execution_count": null,
   "id": "d84f4538-c743-470d-86b7-a6500fbe5387",
   "metadata": {},
   "outputs": [],
   "source": [
    "ECD_data.shape"
   ]
  },
  {
   "cell_type": "code",
   "execution_count": null,
   "id": "579041af",
   "metadata": {},
   "outputs": [],
   "source": [
    "ECD_ts = pd.read_csv('/Users/neethug/Desktop/Neethu/Course/DATA599/Project/finaldata/PC_TS_STAND.csv')\n",
    "un_ts = pd.read_csv('/Users/neethug/Desktop/Neethu/Course/DATA599/Project/finaldata/US_TS_STAND.csv')\n",
    "sy_ts = pd.read_csv('/Users/neethug/Desktop/Neethu/Course/DATA599/Project/finaldata/PC_TS_SYNTH_STAND.csv')"
   ]
  },
  {
   "cell_type": "code",
   "execution_count": null,
   "id": "98a7748a",
   "metadata": {},
   "outputs": [],
   "source": [
    "un_ts['Label'] = \"Unsuccessful\"\n",
    "ECD_ts['Label'] =\"ECD\"\n",
    "sy_ts['Label'] =\"ECD\""
   ]
  },
  {
   "cell_type": "code",
   "execution_count": null,
   "id": "3eab2f88",
   "metadata": {},
   "outputs": [],
   "source": [
    "ECD_pos = pd.concat([ECD_ts,sy_ts])"
   ]
  },
  {
   "cell_type": "code",
   "execution_count": null,
   "id": "8de7af8f",
   "metadata": {},
   "outputs": [],
   "source": [
    "un_data = un_ts.iloc[:,1:-1]"
   ]
  },
  {
   "cell_type": "code",
   "execution_count": null,
   "id": "805c7b0e",
   "metadata": {},
   "outputs": [],
   "source": [
    "un_data.shape"
   ]
  },
  {
   "cell_type": "code",
   "execution_count": null,
   "id": "fadd0329",
   "metadata": {},
   "outputs": [],
   "source": [
    "ECD_data = ECD_pos.iloc[:,1:-1]"
   ]
  },
  {
   "cell_type": "code",
   "execution_count": null,
   "id": "5a675c70",
   "metadata": {},
   "outputs": [],
   "source": [
    "ECD_data.shape"
   ]
  },
  {
   "cell_type": "markdown",
   "id": "6ca9a3a4-8b52-4767-b9ec-7ea9babd0af3",
   "metadata": {},
   "source": [
    "## We’ll split the unsuccessful examples into train, validation and test sets:"
   ]
  },
  {
   "cell_type": "code",
   "execution_count": null,
   "id": "7f353caf-257d-4358-ac26-5a2d13dfc5f0",
   "metadata": {},
   "outputs": [],
   "source": [
    "from sklearn.model_selection import train_test_split\n",
    "import numpy as np\n",
    "import torch\n",
    "\n",
    "RANDOM_SEED = 123\n",
    "\n",
    "DEVICE = ('cuda:0' if torch.cuda.is_available() else 'cpu')\n",
    "\n",
    "train_df, val_df = train_test_split(\n",
    "  un_data,\n",
    "  test_size=0.15,\n",
    "  random_state=RANDOM_SEED\n",
    ")\n",
    "val_df, test_df = train_test_split(\n",
    "  val_df,\n",
    "  test_size=0.33,\n",
    "  random_state=RANDOM_SEED\n",
    ")"
   ]
  },
  {
   "cell_type": "code",
   "execution_count": null,
   "id": "983a0285-d4a0-4272-8c3b-8506553a5d4c",
   "metadata": {},
   "outputs": [],
   "source": [
    "!pip install torch"
   ]
  },
  {
   "cell_type": "code",
   "execution_count": null,
   "id": "244d6035-a4f8-47fc-be5c-7825b2212ddc",
   "metadata": {},
   "outputs": [],
   "source": [
    "def create_dataset(df):\n",
    "    sequences = df.astype(np.float32).to_numpy().tolist()\n",
    "    dataset = [torch.tensor(s).unsqueeze(1).float() for s in sequences]\n",
    "    n_seq, seq_len, n_features = torch.stack(dataset).shape\n",
    "    return dataset, seq_len, n_features"
   ]
  },
  {
   "cell_type": "code",
   "execution_count": null,
   "id": "eb43ed3c-c4be-4c6b-9253-f04f92b480cd",
   "metadata": {},
   "outputs": [],
   "source": [
    "train_dataset, seq_len, n_features = create_dataset(train_df)\n",
    "val_dataset, _, _ = create_dataset(val_df)\n",
    "test_normal_dataset, _, _ = create_dataset(test_df)\n",
    "test_anomaly_dataset, _, _ = create_dataset(ECD_data)"
   ]
  },
  {
   "cell_type": "code",
   "execution_count": null,
   "id": "56746915-8a29-47ed-911c-33826986dc1f",
   "metadata": {},
   "outputs": [],
   "source": [
    "import torch.nn as nn"
   ]
  },
  {
   "cell_type": "code",
   "execution_count": null,
   "id": "02c0299a-817c-4d97-97ed-f049cfca25fe",
   "metadata": {},
   "outputs": [],
   "source": [
    "class Encoder(nn.Module):\n",
    "    def __init__(self, seq_len, n_features, embedding_dim=64):\n",
    "        super(Encoder, self).__init__()\n",
    "        self.seq_len, self.n_features = seq_len, n_features\n",
    "        self.embedding_dim, self.hidden_dim = embedding_dim, 2 * embedding_dim\n",
    "        self.rnn1 = nn.LSTM(\n",
    "            input_size=n_features,\n",
    "            hidden_size=self.hidden_dim,\n",
    "            num_layers=1,\n",
    "            batch_first=True\n",
    "        )\n",
    "        self.rnn2 = nn.LSTM(\n",
    "            input_size=self.hidden_dim,\n",
    "            hidden_size=embedding_dim,\n",
    "            num_layers=1,\n",
    "            batch_first=True\n",
    "        )\n",
    "    def forward(self, x):\n",
    "        x = x.reshape((1, self.seq_len, self.n_features))\n",
    "        x, (_, _) = self.rnn1(x)\n",
    "        x, (hidden_n, _) = self.rnn2(x)\n",
    "        return hidden_n.reshape((self.n_features, self.embedding_dim))"
   ]
  },
  {
   "cell_type": "code",
   "execution_count": null,
   "id": "38d01371-427c-4ec0-99ff-c350a0069033",
   "metadata": {},
   "outputs": [],
   "source": [
    "class Decoder(nn.Module):\n",
    "    def __init__(self, seq_len, input_dim=64, n_features=1):\n",
    "        super(Decoder, self).__init__()\n",
    "        self.seq_len, self.input_dim = seq_len, input_dim\n",
    "        self.hidden_dim, self.n_features = 2 * input_dim, n_features\n",
    "        self.rnn1 = nn.LSTM(\n",
    "            input_size=input_dim,\n",
    "            hidden_size=input_dim,\n",
    "            num_layers=1,\n",
    "            batch_first=True\n",
    "        )\n",
    "        self.rnn2 = nn.LSTM(\n",
    "            input_size=input_dim,\n",
    "            hidden_size=self.hidden_dim,\n",
    "            num_layers=1,\n",
    "            batch_first=True\n",
    "        )\n",
    "        self.output_layer = nn.Linear(self.hidden_dim, n_features)\n",
    "    def forward(self, x):\n",
    "        x = x.repeat(self.seq_len, self.n_features)\n",
    "        x = x.reshape((self.n_features, self.seq_len, self.input_dim))\n",
    "        x, (hidden_n, cell_n) = self.rnn1(x)\n",
    "        x, (hidden_n, cell_n) = self.rnn2(x)\n",
    "        x = x.reshape((self.seq_len, self.hidden_dim))\n",
    "        return self.output_layer(x)"
   ]
  },
  {
   "cell_type": "code",
   "execution_count": null,
   "id": "5a8875fa-2412-4019-94f9-9fe19e028e1f",
   "metadata": {},
   "outputs": [],
   "source": [
    "class Autoencoder(nn.Module):\n",
    "    def __init__(self, seq_len, n_features, embedding_dim=64):\n",
    "        super(Autoencoder, self).__init__()\n",
    "        self.encoder = Encoder(seq_len, n_features, embedding_dim).to(DEVICE)\n",
    "        self.decoder = Decoder(seq_len, embedding_dim, n_features).to(DEVICE)\n",
    "    def forward(self, x):\n",
    "        x = self.encoder(x)\n",
    "        x = self.decoder(x)\n",
    "        return x"
   ]
  },
  {
   "cell_type": "code",
   "execution_count": null,
   "id": "a91348f1-12a2-4425-9d73-2628bd554610",
   "metadata": {},
   "outputs": [],
   "source": [
    "model = Autoencoder(seq_len, n_features, 128)\n",
    "model = model.to(DEVICE)"
   ]
  },
  {
   "cell_type": "code",
   "execution_count": null,
   "id": "e6caec2d-ca60-4ec0-9b7f-283e4732d0c9",
   "metadata": {},
   "outputs": [],
   "source": [
    "import copy\n",
    "\n",
    "def train_model(model, train_dataset, val_dataset, n_epochs):\n",
    "    optimizer = torch.optim.Adam(model.parameters(), lr=1e-3)\n",
    "    criterion = nn.L1Loss(reduction='sum').to(DEVICE)\n",
    "    history = dict(train=[], val=[])\n",
    "    best_model_wts = copy.deepcopy(model.state_dict())\n",
    "    best_loss = 10000.0\n",
    "    for epoch in range(1, n_epochs + 1):\n",
    "        model = model.train()\n",
    "        train_losses = []\n",
    "        for seq_true in train_dataset:\n",
    "                optimizer.zero_grad()\n",
    "                seq_true = seq_true.to(DEVICE)\n",
    "                seq_pred = model(seq_true)\n",
    "                loss = criterion(seq_pred, seq_true)\n",
    "                loss.backward()\n",
    "                optimizer.step()\n",
    "                train_losses.append(loss.item())\n",
    "        val_losses = []\n",
    "        model = model.eval()\n",
    "        with torch.no_grad():\n",
    "            for seq_true in val_dataset:\n",
    "                seq_true = seq_true.to(DEVICE)\n",
    "                seq_pred = model(seq_true)\n",
    "                loss = criterion(seq_pred, seq_true)\n",
    "                val_losses.append(loss.item())\n",
    "        train_loss = np.mean(train_losses)\n",
    "        val_loss = np.mean(val_losses)\n",
    "        history['train'].append(train_loss)\n",
    "        history['val'].append(val_loss)\n",
    "        if val_loss < best_loss:\n",
    "            best_loss = val_loss\n",
    "            best_model_wts = copy.deepcopy(model.state_dict())\n",
    "        print(f'Epoch {epoch}: train loss {train_loss} val loss {val_loss}')\n",
    "    model.load_state_dict(best_model_wts)\n",
    "    return model.eval(), history"
   ]
  },
  {
   "cell_type": "code",
   "execution_count": null,
   "id": "6be105d8-4642-4e98-a407-782e1f43e4c5",
   "metadata": {},
   "outputs": [],
   "source": [
    "model, history = train_model(\n",
    "  model,\n",
    "  train_dataset,\n",
    "  val_dataset,\n",
    "  n_epochs=10\n",
    ")"
   ]
  },
  {
   "cell_type": "code",
   "execution_count": null,
   "id": "a6904f9e-4041-4356-b77a-4f8f800b0dad",
   "metadata": {},
   "outputs": [],
   "source": [
    "def predict(model, dataset):\n",
    "    predictions, losses = [], []\n",
    "    criterion = nn.L1Loss(reduction='sum').to(DEVICE)\n",
    "    with torch.no_grad():\n",
    "        model = model.eval()\n",
    "        for seq_true in dataset:\n",
    "            seq_true = seq_true.to(DEVICE)\n",
    "            seq_pred = model(seq_true)\n",
    "            loss = criterion(seq_pred, seq_true)\n",
    "            predictions.append(seq_pred.cpu().numpy().flatten())\n",
    "            losses.append(loss.item())\n",
    "        return predictions, losses"
   ]
  },
  {
   "cell_type": "code",
   "execution_count": null,
   "id": "9ac0821c-48f2-4614-a0d4-e3905008eb74",
   "metadata": {},
   "outputs": [],
   "source": [
    "!pip install seaborn"
   ]
  },
  {
   "cell_type": "code",
   "execution_count": null,
   "id": "949647fe-fa40-4307-9627-109cfc3d83b9",
   "metadata": {},
   "outputs": [],
   "source": [
    "import seaborn as sns\n",
    "\n",
    "_, losses = predict(model, train_dataset)\n",
    "sns.histplot(losses, bins=50, kde=True);"
   ]
  },
  {
   "cell_type": "code",
   "execution_count": null,
   "id": "f6db367b-09c3-4934-9ebd-3e61a31fe278",
   "metadata": {},
   "outputs": [],
   "source": [
    "THRESHOLD = 10"
   ]
  },
  {
   "cell_type": "code",
   "execution_count": null,
   "id": "a192eb83-e737-4b3f-9233-719790caf631",
   "metadata": {},
   "outputs": [],
   "source": [
    "predictions, pred_losses = predict(model, test_normal_dataset)\n",
    "sns.histplot(pred_losses, bins=50, kde=True);"
   ]
  },
  {
   "cell_type": "code",
   "execution_count": null,
   "id": "31e76295-505a-47d9-b928-5ce9ccbd4b82",
   "metadata": {},
   "outputs": [],
   "source": [
    "correct = sum(l <= THRESHOLD for l in pred_losses)\n",
    "print(f'Correct normal predictions: {correct}/{len(test_normal_dataset)}')\n"
   ]
  },
  {
   "cell_type": "code",
   "execution_count": null,
   "id": "ca8e7ba4-72cd-45ed-b9dc-b90b39518352",
   "metadata": {},
   "outputs": [],
   "source": [
    "predictions, pred_losses = predict(model, test_anomaly_dataset)\n",
    "sns.histplot(pred_losses, bins=50, kde=True);"
   ]
  },
  {
   "cell_type": "code",
   "execution_count": null,
   "id": "09436973-11ba-4912-83e0-bfe15de92ad0",
   "metadata": {},
   "outputs": [],
   "source": [
    "correct = sum(l > THRESHOLD for l in pred_losses)\n",
    "print(f'Correct anomaly predictions: {correct}/{len(test_anomaly_dataset)}')"
   ]
  },
  {
   "cell_type": "code",
   "execution_count": null,
   "id": "052574df-6fe5-434f-a77c-1d28133c274e",
   "metadata": {},
   "outputs": [],
   "source": []
  }
 ],
 "metadata": {
  "kernelspec": {
   "display_name": "Python 3 (ipykernel)",
   "language": "python",
   "name": "python3"
  },
  "language_info": {
   "codemirror_mode": {
    "name": "ipython",
    "version": 3
   },
   "file_extension": ".py",
   "mimetype": "text/x-python",
   "name": "python",
   "nbconvert_exporter": "python",
   "pygments_lexer": "ipython3",
   "version": "3.9.9"
  }
 },
 "nbformat": 4,
 "nbformat_minor": 5
}
