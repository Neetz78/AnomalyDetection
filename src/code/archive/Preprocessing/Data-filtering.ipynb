{
 "cells": [
  {
   "cell_type": "markdown",
   "metadata": {},
   "source": [
    "# Import packages"
   ]
  },
  {
   "cell_type": "code",
   "execution_count": null,
   "metadata": {},
   "outputs": [],
   "source": [
    "import pandas as pd\n",
    "import numpy as np\n",
    "import matplotlib.pyplot as plt"
   ]
  },
  {
   "cell_type": "markdown",
   "metadata": {},
   "source": [
    "# Import preds file"
   ]
  },
  {
   "cell_type": "code",
   "execution_count": null,
   "metadata": {},
   "outputs": [],
   "source": [
    "ECD_predictors=pd.read_csv('RawDataPredictors/ECD.csv')\n",
    "successful_predictors=pd.read_csv('RawDataPredictors/Successful_Readings.csv')\n",
    "unsuccessful_predictors=pd.read_csv('RawDataPredictors/Unsuccessful_Readings.csv')"
   ]
  },
  {
   "cell_type": "markdown",
   "metadata": {},
   "source": [
    "# Import raw time series file"
   ]
  },
  {
   "cell_type": "code",
   "execution_count": null,
   "metadata": {},
   "outputs": [],
   "source": [
    "ECD_ts=pd.read_csv('TimeSeriesData/ECDTS/ECD_TS.csv')\n",
    "ECD_synthetic_ts=pd.read_csv('TimeSeriesData/ECDTS/ECD_TS_Synthetic.csv')\n",
    "unsuccessful_ts=pd.read_csv('TimeSeriesData/UnsuccessfulReadingsTS/US_TS.csv')"
   ]
  },
  {
   "cell_type": "markdown",
   "metadata": {
    "tags": []
   },
   "source": [
    "# Filtering"
   ]
  },
  {
   "cell_type": "markdown",
   "metadata": {},
   "source": [
    "### Frequency = 1/T"
   ]
  },
  {
   "cell_type": "markdown",
   "metadata": {},
   "source": [
    "**Low frequency ==> Large time period ==> less oscillations in a unit time** <br>\n",
    "**High frequency ==> Small time period  ==> more oscillations in a unit time** <br>"
   ]
  },
  {
   "cell_type": "markdown",
   "metadata": {
    "tags": []
   },
   "source": [
    "# Waveforms of unsuccessful data"
   ]
  },
  {
   "cell_type": "code",
   "execution_count": null,
   "metadata": {},
   "outputs": [],
   "source": [
    "plt.style.use('dark_background')\n",
    "plt.figure(figsize=(20,10))\n",
    "data=np.array(unsuccessful_ts.iloc[0,1:])\n",
    "x = np.arange(0.2, 300.2, 0.2)\n",
    "plt.plot(x,data)\n",
    "plt.yticks(fontsize=15)\n",
    "plt.xticks(fontsize=15)\n",
    "plt.xlabel('Time (seconds)', fontsize=15)\n",
    "plt.ylabel('Current (nA)', fontsize=15)\n",
    "plt.title('Example waveform of unsuccessful data', fontsize=25)\n",
    "plt.show()"
   ]
  },
  {
   "cell_type": "markdown",
   "metadata": {},
   "source": [
    "### Zooming on to the sensor's noise"
   ]
  },
  {
   "cell_type": "code",
   "execution_count": null,
   "metadata": {},
   "outputs": [],
   "source": [
    "plt.style.use('default')\n",
    "plt.figure(figsize=(15,5))\n",
    "x = np.arange(44, 180, 0.2)\n",
    "data=np.array(unsuccessful_ts.iloc[0,220:900])\n",
    "plt.plot(x,data)\n",
    "plt.yticks(fontsize=10)\n",
    "plt.xticks(fontsize=10)\n",
    "plt.xlabel('Time (seconds)', fontsize=10)\n",
    "plt.ylabel('Current (nA)', fontsize=10)\n",
    "plt.title('sensor noise in unsuccessful waveform', fontsize=15)\n",
    "plt.show()"
   ]
  },
  {
   "cell_type": "markdown",
   "metadata": {},
   "source": [
    "### Sample noise"
   ]
  },
  {
   "cell_type": "code",
   "execution_count": null,
   "metadata": {},
   "outputs": [],
   "source": [
    "plt.style.use('default')\n",
    "plt.figure(figsize=(15,5))\n",
    "x = np.arange(200, 300.2, 0.2)\n",
    "#print(x)\n",
    "data=np.array(unsuccessful_ts.iloc[0,1000:])\n",
    "plt.plot(x,data)\n",
    "plt.yticks(fontsize=10)\n",
    "plt.xticks(fontsize=10)\n",
    "plt.xlabel('Time (seconds)', fontsize=10)\n",
    "plt.ylabel('Current (nA)', fontsize=10)\n",
    "plt.title('Sample noise in unsuccessful waveform', fontsize=10)\n",
    "plt.show()"
   ]
  },
  {
   "cell_type": "markdown",
   "metadata": {},
   "source": [
    "### Hopefully, we need to smoothen these noise out"
   ]
  },
  {
   "cell_type": "markdown",
   "metadata": {},
   "source": [
    "## Different filters:"
   ]
  },
  {
   "cell_type": "markdown",
   "metadata": {},
   "source": [
    "**Low pass filter : Letting low frequencies pass ==> smoothening** <br>\n",
    "**High pass filter : Letting high frequencies pass ==> sharpening** <br>\n",
    "**Band pass filter : Letting frequencies of certain range to pass**"
   ]
  },
  {
   "cell_type": "markdown",
   "metadata": {
    "tags": []
   },
   "source": [
    "# Example of smoothening"
   ]
  },
  {
   "cell_type": "markdown",
   "metadata": {},
   "source": [
    "![](smoothening.png)"
   ]
  },
  {
   "cell_type": "markdown",
   "metadata": {
    "tags": []
   },
   "source": [
    "# Low pass filter"
   ]
  },
  {
   "cell_type": "code",
   "execution_count": null,
   "metadata": {},
   "outputs": [],
   "source": [
    "from scipy.signal import butter, lfilter, freqz\n",
    "from matplotlib import pyplot as plt"
   ]
  },
  {
   "cell_type": "code",
   "execution_count": null,
   "metadata": {},
   "outputs": [],
   "source": [
    "def butter_lowpass(cutoff, fs, order=5):\n",
    "    nyq = 0.5 * fs\n",
    "    normal_cutoff = cutoff / nyq\n",
    "    print(\"normal cutoff is \",normal_cutoff)\n",
    "    b, a = butter(order, normal_cutoff, btype='low', analog=False)\n",
    "    return b, a\n",
    "\n",
    "\n",
    "def butter_lowpass_filter(data, cutoff, fs, order=5):\n",
    "    b, a = butter_lowpass(cutoff, fs, order=order)\n",
    "    y = lfilter(b, a, data)\n",
    "    return y"
   ]
  },
  {
   "cell_type": "code",
   "execution_count": null,
   "metadata": {},
   "outputs": [],
   "source": [
    "order = 3\n",
    "fs = 5 # sample rate, Hz\n",
    "cutoff = 1 # desired cutoff frequency of the filter, Hz\n",
    "data= np.array(unsuccessful_ts.iloc[0,190:900])\n",
    "x=np.arange(38,180,0.2)\n",
    "y = butter_lowpass_filter(data, cutoff, fs, order)\n",
    "plt.figure(figsize=(15,5))\n",
    "plt.plot(x[5:],data[5:],'g-')\n",
    "plt.plot(x[5:],y[5:],'k-')\n",
    "plt.yticks(fontsize=10)\n",
    "plt.xticks(fontsize=10)\n",
    "plt.xlabel('Time (seconds)', fontsize=10)\n",
    "plt.ylabel('Current (nA)', fontsize=10)\n",
    "plt.title('Filtering sensor noise', fontsize=15)\n",
    "plt.show()\n",
    "rms = np.sqrt(mean_squared_error(data,y))\n",
    "print(\"Root mean square value\",rms)"
   ]
  },
  {
   "cell_type": "code",
   "execution_count": null,
   "metadata": {},
   "outputs": [],
   "source": [
    "order = 3\n",
    "fs = 5 # sample rate, Hz\n",
    "cutoff = 2 # desired cutoff frequency of the filter, Hz\n",
    "data= np.array(unsuccessful_ts.iloc[0,1000:1295])\n",
    "x=np.arange(200,259,0.2)\n",
    "y = butter_lowpass_filter(data, cutoff, fs, order)\n",
    "plt.figure(figsize=(15,5))\n",
    "plt.plot(x[5:],data[5:],'g-')\n",
    "plt.plot(x[5:],y[5:],'k-')\n",
    "plt.yticks(fontsize=10)\n",
    "plt.xticks(fontsize=10)\n",
    "plt.xlabel('Time (seconds)', fontsize=10)\n",
    "plt.ylabel('Current (nA)', fontsize=10)\n",
    "plt.title('Filtering sample noise', fontsize=15)\n",
    "plt.show()\n",
    "rms = np.sqrt(mean_squared_error(data,y))\n",
    "print(\"Root mean square value\",rms)"
   ]
  },
  {
   "cell_type": "markdown",
   "metadata": {
    "jp-MarkdownHeadingCollapsed": true,
    "tags": []
   },
   "source": [
    "# FIR filter - band pass filter"
   ]
  },
  {
   "cell_type": "code",
   "execution_count": null,
   "metadata": {},
   "outputs": [],
   "source": [
    "from sklearn.metrics import mean_squared_error\n",
    "from  scipy.signal import firwin,lfilter"
   ]
  },
  {
   "cell_type": "code",
   "execution_count": null,
   "metadata": {
    "tags": []
   },
   "outputs": [],
   "source": [
    "low = np.linspace(0.05e-10,10e-9,10)\n",
    "high = np.linspace(25e-7,100e-9,10)\n",
    "rmse_list=[]\n",
    "lfilt_result_list=[]\n",
    "x=np.arange(200,300.2,0.2)\n",
    "data=np.array(unsuccessful_ts.iloc[0,1000:])\n",
    "i=0\n",
    "for low,high in zip(low,high):\n",
    "    i+=1\n",
    "    b = firwin(4, [low,high], width=0.9, pass_zero=False,fs=5)\n",
    "    lfilt_result = lfilter(b, [1.0], data)\n",
    "    lfilt_result_list.append(lfilt_result)\n",
    "    plt.figure(figsize=(30,40))\n",
    "    plt.subplot(6,2,i)\n",
    "    plt.plot(x,data)\n",
    "    plt.plot(x,lfilt_result,'k-')\n",
    "    plt.yticks(fontsize=10)\n",
    "    plt.xticks(fontsize=10)\n",
    "    plt.xlabel('Time (seconds)', fontsize=10)\n",
    "    plt.ylabel('Current (nA)', fontsize=10)\n",
    "    plt.title('Smoothened waveform (unsuccessful)', fontsize=15)\n",
    "    plt.subplots_adjust(hspace=0.9,wspace=0.35)    \n",
    "    rms = np.sqrt(mean_squared_error(data, lfilt_result))\n",
    "    rmse_list.append(rms)"
   ]
  },
  {
   "cell_type": "code",
   "execution_count": null,
   "metadata": {},
   "outputs": [],
   "source": [
    "low_list = np.linspace(0.5,1,20)\n",
    "high_list = np.linspace(1,2.4,20)\n",
    "rmse_list=[]\n",
    "lfilt_result_list=[]\n",
    "data=np.array(unsuccessful_ts.iloc[0,200:900])\n",
    "i=0\n",
    "for low,high in zip(low_list,high_list):\n",
    "    i+=1\n",
    "    b = firwin(4, [low,high], width=0.2, pass_zero=False,fs=5)\n",
    "    lfilt_result = lfilter(b,[1.0], data)\n",
    "    lfilt_result_list.append(lfilt_result)\n",
    "    plt.figure(figsize=(30,40))\n",
    "    plt.subplot(20,2,i)\n",
    "    plt.plot(data)\n",
    "    plt.plot(lfilt_result,'w-')\n",
    "    plt.yticks(fontsize=10)\n",
    "    plt.xticks(fontsize=10)\n",
    "    plt.xlabel('Time (seconds)', fontsize=15)\n",
    "    plt.ylabel('Current (nA)', fontsize=15)\n",
    "    plt.title('Smoothened waveform (unsuccessful)', fontsize=15)\n",
    "    plt.subplots_adjust(hspace=0.9,wspace=0.35)    \n",
    "    rms = np.sqrt(mean_squared_error(data, lfilt_result))\n",
    "    rmse_list.append(rms)"
   ]
  },
  {
   "cell_type": "code",
   "execution_count": null,
   "metadata": {},
   "outputs": [],
   "source": [
    "plt.figure(figsize=(30,10))\n",
    "plt.plot(b)\n",
    "plt.yticks(fontsize=15)\n",
    "plt.xticks(fontsize=15)\n",
    "plt.title('FIR filter', fontsize=25)\n",
    "plt.show()"
   ]
  },
  {
   "cell_type": "code",
   "execution_count": null,
   "metadata": {},
   "outputs": [],
   "source": [
    "plt.figure(figsize=(30,10))\n",
    "plt.plot(np.arange(1,len(rmse_list)+1),rmse_list,'k-',linewidth=4.0) \n",
    "plt.yticks(fontsize=15)\n",
    "plt.xticks(fontsize=15)\n",
    "plt.xlabel('index', fontsize=15)\n",
    "plt.ylabel('RMS of filtered signals and actual signal', fontsize=15)\n",
    "plt.title('Comparison of RMS values', fontsize=25,loc='center')\n",
    "plt.show()"
   ]
  },
  {
   "cell_type": "code",
   "execution_count": null,
   "metadata": {},
   "outputs": [],
   "source": [
    "print(\"rms of different filtered signals and the actual signal \\n\",rmse_list)\n",
    "print(\"mean of rms values:\",np.mean(rmse_list))"
   ]
  },
  {
   "cell_type": "code",
   "execution_count": null,
   "metadata": {},
   "outputs": [],
   "source": [
    "plt.figure(figsize=(30,20))\n",
    "plt.plot(np.array(unsuccessful_ts.iloc[0,225:900]),'g-')\n",
    "plt.plot(pd.Series(lfilt_result_list[3][5:]),'w-')"
   ]
  },
  {
   "cell_type": "markdown",
   "metadata": {
    "tags": []
   },
   "source": [
    "# Waveforms of successful data"
   ]
  },
  {
   "cell_type": "code",
   "execution_count": null,
   "metadata": {},
   "outputs": [],
   "source": [
    "plt.style.use('default')\n",
    "plt.figure(figsize=(10,5))\n",
    "x = np.arange(44, 261, 0.2)\n",
    "data=np.array(successful_ts.iloc[0,220:1305])\n",
    "plt.plot(data)\n",
    "plt.yticks(fontsize=5)\n",
    "plt.xticks(fontsize=5)\n",
    "plt.xlabel('Time (seconds)', fontsize=5)\n",
    "plt.ylabel('Current (nA)', fontsize=5)\n",
    "plt.title('Example waveform of successful data', fontsize=10)\n",
    "plt.show()"
   ]
  },
  {
   "cell_type": "markdown",
   "metadata": {},
   "source": [
    "### Zooming on to the sensor's noise"
   ]
  },
  {
   "cell_type": "code",
   "execution_count": null,
   "metadata": {},
   "outputs": [],
   "source": [
    "plt.style.use('default')\n",
    "plt.figure(figsize=(20,10))\n",
    "data=np.array(successful_ts.iloc[0,220:900])\n",
    "plt.plot(data)\n",
    "plt.yticks(fontsize=15)\n",
    "plt.xticks(fontsize=15)\n",
    "plt.xlabel('Time (seconds)', fontsize=15)\n",
    "plt.ylabel('Current (nA)', fontsize=15)\n",
    "plt.title('sensor noise of successful readings', fontsize=25)\n",
    "plt.show()"
   ]
  },
  {
   "cell_type": "markdown",
   "metadata": {},
   "source": [
    "### Zooming on to the sample's noise"
   ]
  },
  {
   "cell_type": "code",
   "execution_count": null,
   "metadata": {},
   "outputs": [],
   "source": [
    "plt.style.use('dark_background')\n",
    "plt.figure(figsize=(20,10))\n",
    "data=np.array(successful_ts.iloc[0,1000:])\n",
    "plt.plot(data)\n",
    "plt.yticks(fontsize=15)\n",
    "plt.xticks(fontsize=15)\n",
    "plt.xlabel('Time (seconds)', fontsize=15)\n",
    "plt.ylabel('Current (nA)', fontsize=15)\n",
    "plt.title('Sample noise', fontsize=25)\n",
    "plt.show()"
   ]
  },
  {
   "cell_type": "code",
   "execution_count": null,
   "metadata": {},
   "outputs": [],
   "source": [
    "order = 3\n",
    "fs = 20 # sample rate, Hz\n",
    "plt.style.use('default')\n",
    "cutoff = 5.2 # desired cutoff frequency of the filter, Hz\n",
    "x=np.arange(44,180,0.2)\n",
    "data= np.array(successful_ts.iloc[0,220:900])\n",
    "y = butter_lowpass_filter(data, cutoff, fs, order)\n",
    "plt.figure(figsize=(15,5))\n",
    "plt.plot(x[5:],data[5:],'g-')\n",
    "plt.plot(x[5:],y[5:],'k-')\n",
    "plt.yticks(fontsize=10)\n",
    "plt.xticks(fontsize=10)\n",
    "plt.xlabel('Time (seconds)', fontsize=10)\n",
    "plt.ylabel('Current (nA)', fontsize=10)\n",
    "plt.title('Filtering sensor noise', fontsize=15)\n",
    "plt.show()\n",
    "rms = np.sqrt(mean_squared_error(data,y))\n",
    "print(\"Root mean square value\",rms)"
   ]
  }
 ],
 "metadata": {
  "interpreter": {
   "hash": "83ef79044b45ed5cd7d8a7c2160f1addbcec1afb4deedf1776cea6c205577587"
  },
  "kernelspec": {
   "display_name": "Python 3 (ipykernel)",
   "language": "python",
   "name": "python3"
  },
  "language_info": {
   "codemirror_mode": {
    "name": "ipython",
    "version": 3
   },
   "file_extension": ".py",
   "mimetype": "text/x-python",
   "name": "python",
   "nbconvert_exporter": "python",
   "pygments_lexer": "ipython3",
   "version": "3.9.9"
  }
 },
 "nbformat": 4,
 "nbformat_minor": 4
}
