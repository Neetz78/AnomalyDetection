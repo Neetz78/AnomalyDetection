{
 "cells": [
  {
   "cell_type": "markdown",
   "id": "d446aafe-d91d-48da-9220-ce765ae1eeb4",
   "metadata": {},
   "source": [
    "## Description\n",
    "\n",
    "This notebook was used in the first iteration to separate out the unsuccessful and successful predictors into different files."
   ]
  },
  {
   "cell_type": "code",
   "execution_count": null,
   "id": "4d1910ab-5941-46f1-ad88-c51015829d49",
   "metadata": {},
   "outputs": [],
   "source": [
    "import pandas as pd"
   ]
  },
  {
   "cell_type": "code",
   "execution_count": null,
   "id": "f4b4b3f1-2d84-43df-8b4e-a886971ef83c",
   "metadata": {},
   "outputs": [],
   "source": [
    "# Read in the time series data\n",
    "ecd_ts = pd.read_csv('Data/Time Series/ECDTS/PC_TS.csv')\n",
    "un_ts = pd.read_csv('Data/Time Series/unsuccesful time series/US_TS.csv')\n",
    "direct = 'Data/Time Series/successful time series/S_TS_'\n",
    "succ_ts = pd.concat(map(pd.read_csv, [direct+'1(1).csv', direct+'2(1).csv', \n",
    "                                 direct+'3(1).csv', direct+'4(1).csv', direct+'5(1).csv', direct+'6(1).csv', \n",
    "                                 direct+'7(1).csv', direct+'8(1).csv']))"
   ]
  },
  {
   "cell_type": "code",
   "execution_count": null,
   "id": "27d80f81-9093-4430-aa6c-10f3dac7e5a9",
   "metadata": {},
   "outputs": [],
   "source": [
    "# Read in the predictors data\n",
    "pred = pd.read_csv('Data/Raw Data Predictors/RawAggData2021-2022.csv')\n",
    "pred = pred.drop_duplicates()"
   ]
  },
  {
   "cell_type": "code",
   "execution_count": null,
   "id": "15fc8f4a-5010-45cc-abcf-c1472f7ef0e1",
   "metadata": {},
   "outputs": [],
   "source": [
    "pc_id = pd.read_csv('Data/Raw Data Predictors/TestID_PC.txt', sep = ',', header = None, squeeze = True).transpose()\n",
    "succ_id = pd.read_csv('Data/Raw Data Predictors/TestID_Successful.txt', sep = ',', header = None, squeeze = True).transpose()\n",
    "un_id = pd.read_csv('Data/Raw Data Predictors/TestID_Unsuccessful.txt', sep = ',', header = None, squeeze = True).transpose()\n",
    "un_id = un_id.dropna()"
   ]
  },
  {
   "cell_type": "code",
   "execution_count": null,
   "id": "e73074e6-37c0-4e70-90a0-9e4f2320ceb0",
   "metadata": {},
   "outputs": [],
   "source": [
    "#Check if the number of ids match between the files. \n",
    "print(len(pc_id) - len(ecd_ts))\n",
    "print(len(un_id) - len(un_ts))\n",
    "print(len(succ_id) - len(succ_ts))"
   ]
  },
  {
   "cell_type": "code",
   "execution_count": null,
   "id": "ae849f46-531d-4dcb-b54d-9ea30fb26796",
   "metadata": {},
   "outputs": [],
   "source": [
    "# Get rid of duplicate date times in predictors\n",
    "bool_series = pred['TestID'].duplicated()\n",
    "#removed the duplicate 125 IDs.\n",
    "pred = pred[~bool_series]"
   ]
  },
  {
   "cell_type": "code",
   "execution_count": null,
   "id": "e304e5dd-c841-4ffd-8ee8-fb2fffbd30c2",
   "metadata": {},
   "outputs": [],
   "source": [
    "# Get the successful predictor rows. (only the ones with corresponding time series)\n",
    "succ = pred[pred['TestID'].isin(succ_id[succ_id[0].isin(succ_ts['TestId'])][0])]"
   ]
  },
  {
   "cell_type": "code",
   "execution_count": null,
   "id": "94f4513b-a563-4db3-babf-9c22ae342c16",
   "metadata": {},
   "outputs": [],
   "source": [
    "# Get the unsuccessful predictor rows. \n",
    "un = pred[pred['TestID'].isin(un_id[0])]"
   ]
  },
  {
   "cell_type": "code",
   "execution_count": null,
   "id": "34677fdf-57b6-4d94-8648-8cd73b283cb8",
   "metadata": {},
   "outputs": [],
   "source": [
    "# Get the ECD predictor rows. \n",
    "pin = pred[pred['TestID'].isin(pc_id[0])]"
   ]
  },
  {
   "cell_type": "code",
   "execution_count": null,
   "id": "1c105977-e6df-4ff2-aa77-cc3ea19642d3",
   "metadata": {},
   "outputs": [],
   "source": [
    "#Make sure the test id's now match between the predictors and time series of the same three classes. \n",
    "print(sum(~succ['TestID'].isin(succ_ts['TestId'])))\n",
    "print(sum(~un['TestID'].isin(un_ts['TestId'])))\n",
    "print(sum(~pin['TestID'].isin(ecd_ts['TestId'])))\n",
    "print(sum(~succ_ts['TestId'].isin(succ['TestID'])))\n",
    "print(sum(~un_ts['TestId'].isin(un['TestID'])))\n",
    "print(sum(~ecd_ts['TestId'].isin(pin['TestID'])))"
   ]
  },
  {
   "cell_type": "markdown",
   "id": "d9bd6a81-17c6-4fd8-b131-6d3bda418349",
   "metadata": {},
   "source": [
    "# Now that un, succ, and pin have the predictor test ids that match the time series data. Let's check for overlap between unsuccessful and ECD. "
   ]
  },
  {
   "cell_type": "code",
   "execution_count": null,
   "id": "8335695e-3983-4f38-b796-82025aea9d10",
   "metadata": {},
   "outputs": [],
   "source": [
    "print(len(pin) - len(ecd_ts))\n",
    "print(len(un) - len(un_ts))\n",
    "print(len(succ) - len(succ_ts))"
   ]
  },
  {
   "cell_type": "code",
   "execution_count": null,
   "id": "74cd1c42-45d3-4692-a406-12f87fbac857",
   "metadata": {},
   "outputs": [],
   "source": [
    "print(len(pin))\n",
    "print(len(un))\n",
    "print(len(ecd_ts))"
   ]
  },
  {
   "cell_type": "code",
   "execution_count": null,
   "id": "62da19e8-0847-4c3d-9848-5eb40e4f7f10",
   "metadata": {},
   "outputs": [],
   "source": [
    "ecd_ts['TestId'][ecd_ts['TestId'].isin(un_ts['TestId'])]"
   ]
  },
  {
   "cell_type": "code",
   "execution_count": null,
   "id": "4f258e0f-dff4-4efb-95a6-9ffd3b4f6a15",
   "metadata": {},
   "outputs": [],
   "source": [
    "pin['TestID'][pin['TestID'].isin(un['TestID'])]"
   ]
  },
  {
   "cell_type": "markdown",
   "id": "12276bbe-a043-4ca6-a71e-d7458befe34a",
   "metadata": {},
   "source": [
    "# There is no overlap between ECD and unsuccessful. "
   ]
  },
  {
   "cell_type": "markdown",
   "id": "b21d999e-fda4-4e85-835a-d536cb0fb2e6",
   "metadata": {},
   "source": [
    "# Now write the new data files. "
   ]
  },
  {
   "cell_type": "code",
   "execution_count": null,
   "id": "8e913800-863c-4a1c-991a-44d5e7a14337",
   "metadata": {},
   "outputs": [],
   "source": [
    "pin.to_csv('Data/Raw Data Predictors/ECD.csv', index = False)"
   ]
  },
  {
   "cell_type": "code",
   "execution_count": null,
   "id": "7fd1ada5-8e35-4480-bd89-c9bf557486dd",
   "metadata": {},
   "outputs": [],
   "source": [
    "un.to_csv('Data/Raw Data Predictors/Unsuccessful.csv', index = False)"
   ]
  },
  {
   "cell_type": "code",
   "execution_count": null,
   "id": "737341b5-b6ce-4c6e-b464-34ec206aee86",
   "metadata": {},
   "outputs": [],
   "source": [
    "succ.to_csv('Data/Raw Data Predictors/Successful.csv', index = False)"
   ]
  },
  {
   "cell_type": "code",
   "execution_count": null,
   "id": "03109d39-35f5-4745-84e4-21ba9cfb1cca",
   "metadata": {},
   "outputs": [],
   "source": [
    "un_ts.to_csv('Data/Time Series/unsuccesful time series/US_TS_No_Pin.csv', index = False)"
   ]
  },
  {
   "cell_type": "code",
   "execution_count": null,
   "id": "08a6360a-54f9-4c36-a836-892ddc25fc02",
   "metadata": {},
   "outputs": [],
   "source": []
  }
 ],
 "metadata": {
  "kernelspec": {
   "display_name": "Python 3 (ipykernel)",
   "language": "python",
   "name": "python3"
  },
  "language_info": {
   "codemirror_mode": {
    "name": "ipython",
    "version": 3
   },
   "file_extension": ".py",
   "mimetype": "text/x-python",
   "name": "python",
   "nbconvert_exporter": "python",
   "pygments_lexer": "ipython3",
   "version": "3.9.9"
  }
 },
 "nbformat": 4,
 "nbformat_minor": 5
}
