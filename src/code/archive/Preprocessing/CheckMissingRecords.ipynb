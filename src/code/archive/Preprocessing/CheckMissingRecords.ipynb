{
 "cells": [
  {
   "cell_type": "markdown",
   "id": "5dab26e2-04a1-4546-8d62-465a29a40fbf",
   "metadata": {},
   "source": [
    "# **Description**\n",
    "\n",
    "Used in the first iteration to make sure there were no duplicate test IDs or test IDs that were present in predictor files but not the time series files or vice versa. "
   ]
  },
  {
   "cell_type": "code",
   "execution_count": null,
   "id": "e48ca97b-3483-4b0d-ad7b-d22f8b437bcd",
   "metadata": {},
   "outputs": [],
   "source": [
    "import pandas as pd"
   ]
  },
  {
   "cell_type": "markdown",
   "id": "82a473ac-af88-4df9-97fc-38d925a6d595",
   "metadata": {},
   "source": [
    "# Read in the time series data"
   ]
  },
  {
   "cell_type": "code",
   "execution_count": null,
   "id": "541ffccf-0042-4737-ab82-e361f657a8c0",
   "metadata": {},
   "outputs": [],
   "source": [
    "ecd_ts = pd.read_csv('Data/Time Series/ECDTS/PC_TS.csv')\n",
    "un_ts = pd.read_csv('Data/Time Series/unsuccesful time series/US_TS.csv')\n",
    "direct = 'Data/Time Series/successful time series/S_TS_'\n",
    "succ_ts = pd.concat(map(pd.read_csv, [direct+'1(1).csv', direct+'2(1).csv', \n",
    "                                 direct+'3(1).csv', direct+'4(1).csv', direct+'5(1).csv', direct+'6(1).csv', \n",
    "                                 direct+'7(1).csv', direct+'8(1).csv']))"
   ]
  },
  {
   "cell_type": "markdown",
   "id": "be4224ad-90c8-41ed-9510-4d1debf2d83b",
   "metadata": {},
   "source": [
    "# Read in the predictors data"
   ]
  },
  {
   "cell_type": "code",
   "execution_count": null,
   "id": "eb2cc86d-df2a-4b4d-a718-f905cfb0e821",
   "metadata": {},
   "outputs": [],
   "source": [
    "un_pred = pd.read_csv('Data/Raw Data Predictors/Unsuccessful_Readings.csv')\n",
    "ecd_pred = pd.read_csv('Data/Raw Data Predictors/ECD.csv')\n",
    "succ_pred = pd.read_csv('Data/Raw Data Predictors/Successful_Readings.csv')"
   ]
  },
  {
   "cell_type": "markdown",
   "id": "fc636a17-0698-47d1-a51d-26aedd4b82ec",
   "metadata": {},
   "source": [
    "# Check the lengths of the data frames. "
   ]
  },
  {
   "cell_type": "code",
   "execution_count": null,
   "id": "f034b37d-b65d-4ad9-acc4-15904e6b4c08",
   "metadata": {},
   "outputs": [],
   "source": [
    "len(ecd_ts)"
   ]
  },
  {
   "cell_type": "code",
   "execution_count": null,
   "id": "ca978bd9-7c46-4b65-b8ed-686a2640d3f5",
   "metadata": {},
   "outputs": [],
   "source": [
    "len(ecd_pred)"
   ]
  },
  {
   "cell_type": "code",
   "execution_count": null,
   "id": "19a70c38-1dd9-4221-8684-c630baa959a3",
   "metadata": {},
   "outputs": [],
   "source": [
    "len(un_ts)"
   ]
  },
  {
   "cell_type": "code",
   "execution_count": null,
   "id": "cacf82ed-0b25-4dcf-a5d8-036f9618f6a0",
   "metadata": {},
   "outputs": [],
   "source": [
    "len(un_pred)"
   ]
  },
  {
   "cell_type": "code",
   "execution_count": null,
   "id": "a1143a43-d505-4d85-a385-48cf67be8974",
   "metadata": {},
   "outputs": [],
   "source": [
    "len(succ_ts)"
   ]
  },
  {
   "cell_type": "code",
   "execution_count": null,
   "id": "5189f9a2-5f59-4103-a954-0c34e5dd22df",
   "metadata": {},
   "outputs": [],
   "source": [
    "len(succ_pred)"
   ]
  },
  {
   "cell_type": "markdown",
   "id": "ddcfc7a6-6731-40ed-a3c8-7630e86404c5",
   "metadata": {},
   "source": [
    "Evidently, there are some mismatches between which tests are present as time series and which are present with summary predictors. \n",
    "\n",
    "# Check for duplicates in all the data frames. "
   ]
  },
  {
   "cell_type": "code",
   "execution_count": null,
   "id": "1049b867-92da-4ac0-bd6e-d296c7d61829",
   "metadata": {},
   "outputs": [],
   "source": [
    "len(ecd_ts) == len(ecd_ts.drop_duplicates())"
   ]
  },
  {
   "cell_type": "code",
   "execution_count": null,
   "id": "61f110c1-f110-465e-98c5-f024be5e4e09",
   "metadata": {},
   "outputs": [],
   "source": [
    "len(ecd_pred) == len(ecd_pred.drop_duplicates())"
   ]
  },
  {
   "cell_type": "markdown",
   "id": "9fc83965-0bb6-4711-b13c-cb19baab86c3",
   "metadata": {},
   "source": [
    "ECD files have no duplicates, so we are good there. "
   ]
  },
  {
   "cell_type": "code",
   "execution_count": null,
   "id": "fedf49b4-27c3-495c-b08f-165bd6336931",
   "metadata": {},
   "outputs": [],
   "source": [
    "len(un_pred) == len(un_pred.drop_duplicates())"
   ]
  },
  {
   "cell_type": "code",
   "execution_count": null,
   "id": "669baf9a-9bcf-47b2-b84c-fe1297717447",
   "metadata": {},
   "outputs": [],
   "source": [
    "# Drop the duplicates, make sure test IDs are only present once. \n",
    "un_pred = un_pred.drop_duplicates()\n",
    "len(un_pred['TestID'].unique()) == len(un_pred)"
   ]
  },
  {
   "cell_type": "code",
   "execution_count": null,
   "id": "e21ce23f-aeda-437e-a937-2d173db0d6ae",
   "metadata": {},
   "outputs": [],
   "source": [
    "len(un_ts) == len(un_ts.drop_duplicates())"
   ]
  },
  {
   "cell_type": "code",
   "execution_count": null,
   "id": "e88f0d2a-98e6-4e2b-84c4-602462180c4f",
   "metadata": {},
   "outputs": [],
   "source": [
    "len(succ_pred) == len(succ_pred.drop_duplicates())"
   ]
  },
  {
   "cell_type": "code",
   "execution_count": null,
   "id": "aeb074d6-5d83-4921-90da-fbb40b728cee",
   "metadata": {},
   "outputs": [],
   "source": [
    "# Drop the duplicates, make sure test IDs are only present once. \n",
    "succ_pred = succ_pred.drop_duplicates()\n",
    "len(succ_pred['TestID'].unique()) == len(succ_pred)"
   ]
  },
  {
   "cell_type": "markdown",
   "id": "78802ead-923e-4f6b-bf3f-6a5ceb4d845e",
   "metadata": {},
   "source": [
    "# Make sure ECD and unsuccesful records are separate"
   ]
  },
  {
   "cell_type": "code",
   "execution_count": null,
   "id": "62c57c60-46d5-4afa-85d5-253322aec3c6",
   "metadata": {},
   "outputs": [],
   "source": [
    "ecd_ts['TestId'][~ecd_ts['TestId'].isin(un_ts['TestId'])]"
   ]
  },
  {
   "cell_type": "markdown",
   "id": "844bb642-b470-4406-a659-347c5de72ea7",
   "metadata": {},
   "source": [
    "All of the ECD time series ids are also in the unsuccessful time series ids, so they are duplicated there. "
   ]
  },
  {
   "cell_type": "code",
   "execution_count": null,
   "id": "8d14831e-3bc8-4675-855c-5fbe41dcfa21",
   "metadata": {},
   "outputs": [],
   "source": [
    "ecd_pred['TestID'][~ecd_pred['TestID'].isin(un_pred['TestID'])]"
   ]
  },
  {
   "cell_type": "markdown",
   "id": "a0696744-23a1-4b86-8837-de036975cef9",
   "metadata": {},
   "source": [
    "None of the ECD predictor IDs are in the unsuccessful predictor file. "
   ]
  },
  {
   "cell_type": "code",
   "execution_count": null,
   "id": "5a97510a-80ef-4b46-9906-6e2547469a81",
   "metadata": {},
   "outputs": [],
   "source": [
    "ecd_pred['TestID'][~ecd_pred['TestID'].isin(un_ts['TestId'])]"
   ]
  },
  {
   "cell_type": "markdown",
   "id": "7e3f16c9-d325-4f07-a40f-aa0172e48b8c",
   "metadata": {},
   "source": [
    "All the ECD predictors are in the unsuccessful **time series file**. I think this means that the ECD tests are duplicated in the unsuccessful time series records, **but not in the predictor records**."
   ]
  },
  {
   "cell_type": "markdown",
   "id": "60a791d1-9fe7-4526-9b24-4d4d52dce529",
   "metadata": {},
   "source": [
    "# Find mismatches in the ECD data. "
   ]
  },
  {
   "cell_type": "code",
   "execution_count": null,
   "id": "e47c579c-5e5f-4b55-ae94-b03214d8f1ab",
   "metadata": {},
   "outputs": [],
   "source": [
    "s1 = ecd_ts['TestId']\n",
    "s2 = ecd_pred['TestID']\n",
    "# Test ids in timeseries data not in predictor data. \n",
    "res = s1[~s1.isin(s2)]\n",
    "#res.to_csv('missing_from_ECD_timeseries.csv', index = False)\n",
    "res"
   ]
  },
  {
   "cell_type": "markdown",
   "id": "c7be1a69-00b7-4333-8cef-f6d259d34293",
   "metadata": {},
   "source": [
    "There are two IDs in the time series data that are not in the predictor data. Let's check if these ID's are in the unsuccessful predictors file. "
   ]
  },
  {
   "cell_type": "code",
   "execution_count": null,
   "id": "a82837b1-c6cc-4ea1-904d-ef9bf21610c3",
   "metadata": {},
   "outputs": [],
   "source": [
    "un_pred[un_pred['TestID'] == 10474383]"
   ]
  },
  {
   "cell_type": "code",
   "execution_count": null,
   "id": "9753b461-e976-4539-a16a-9d52816590c6",
   "metadata": {},
   "outputs": [],
   "source": [
    "un_pred[un_pred['TestID'] == 10466205]"
   ]
  },
  {
   "cell_type": "markdown",
   "id": "baa11b95-c277-47ea-9fa1-4be2247a7bd8",
   "metadata": {},
   "source": [
    "Nope. The predictor data for test ids 10466205 and 10474383 are just missing from the dataset. "
   ]
  },
  {
   "cell_type": "code",
   "execution_count": null,
   "id": "b29739fd-5c94-47a4-9f32-45abed995be3",
   "metadata": {},
   "outputs": [],
   "source": [
    "#Test ids in predictor data not in time series data\n",
    "s2[~s2.isin(s1)]"
   ]
  },
  {
   "cell_type": "markdown",
   "id": "fd1d1090-248a-4a1a-aaa2-d3fcd49ece7d",
   "metadata": {},
   "source": [
    "# Find mismatches in the unsuccessful data"
   ]
  },
  {
   "cell_type": "code",
   "execution_count": null,
   "id": "9c638a30-726d-4f46-b819-9401320c35da",
   "metadata": {},
   "outputs": [],
   "source": [
    "s1 = un_ts['TestId']\n",
    "s2 = un_pred['TestID']\n",
    "# Test ids in timeseries data not in predictor data. \n",
    "res = pd.DataFrame(s1[~s1.isin(s2)])\n",
    "print(str(len(res)) + ' records are present in time series but not in predictors')\n",
    "#res.to_csv('missing_from_successful_predictors.csv', index = False)\n",
    "# test ids in predictor data but not in time series\n",
    "res = pd.DataFrame(s2[~s2.isin(s1)])\n",
    "print(str(len(res)) + ' records are present in predictors but not in time series')\n",
    "#res.to_csv('missing_from_successful_timeseries.csv', index = False)"
   ]
  },
  {
   "cell_type": "markdown",
   "id": "164beb73-6756-4fa4-ad66-fdbd6edca966",
   "metadata": {},
   "source": [
    "# Find mismatches in the successful data"
   ]
  },
  {
   "cell_type": "code",
   "execution_count": null,
   "id": "1fd017d4-bb39-4d6e-840a-e9c0f2cf48fa",
   "metadata": {},
   "outputs": [],
   "source": [
    "s1 = succ_ts['TestId']\n",
    "s2 = succ_pred['TestID']\n",
    "# Test ids in timeseries data not in predictor data. \n",
    "res = pd.DataFrame(s1[~s1.isin(s2)])\n",
    "#res.to_csv('missing_from_successful_predictors.csv', index = False)\n",
    "print(str(len(res)) + ' records are present in time series but not in predictors')\n",
    "# test ids in predictor data but not in time series\n",
    "res = pd.DataFrame(s2[~s2.isin(s1)])\n",
    "#res.to_csv('missing_from_successful_timeseries.csv', index = False)\n",
    "print(str(len(res)) + ' records are present in predictors but not in time series')"
   ]
  },
  {
   "cell_type": "markdown",
   "id": "760ba837-5fb2-406a-9b5d-f225a13ae20a",
   "metadata": {},
   "source": [
    "# Explore the data"
   ]
  },
  {
   "cell_type": "code",
   "execution_count": null,
   "id": "4c37c33d-1fb1-45a4-91fc-0aa64daec5e8",
   "metadata": {},
   "outputs": [],
   "source": [
    "un_pred.head()"
   ]
  },
  {
   "cell_type": "code",
   "execution_count": null,
   "id": "575ee298-9127-481c-9eb7-73da053f0f63",
   "metadata": {},
   "outputs": [],
   "source": []
  }
 ],
 "metadata": {
  "kernelspec": {
   "display_name": "Python 3 (ipykernel)",
   "language": "python",
   "name": "python3"
  },
  "language_info": {
   "codemirror_mode": {
    "name": "ipython",
    "version": 3
   },
   "file_extension": ".py",
   "mimetype": "text/x-python",
   "name": "python",
   "nbconvert_exporter": "python",
   "pygments_lexer": "ipython3",
   "version": "3.9.9"
  }
 },
 "nbformat": 4,
 "nbformat_minor": 5
}
