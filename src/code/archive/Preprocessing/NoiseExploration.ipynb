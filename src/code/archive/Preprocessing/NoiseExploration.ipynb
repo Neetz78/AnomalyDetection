{
 "cells": [
  {
   "cell_type": "markdown",
   "id": "99d29360-da8c-455c-9a31-5823dbfe1522",
   "metadata": {},
   "source": [
    "## **Noise Exploration Notebook Description**\n",
    "\n",
    "This notebook is an example of the process we used to compare our analyte of interest (A) with a less noisy analyte (B) to try and determine the optimal way to reduce noise. Future work could definitely benefit from trying other attempts. In the final preprocessing notebook, three forms of noise reduction are included, along with a function for diagnostic plots which only considers analyte A. "
   ]
  },
  {
   "cell_type": "markdown",
   "id": "a92057c6-df63-4b88-8d78-34b9a94f4516",
   "metadata": {
    "tags": []
   },
   "source": [
    "# Package Imports"
   ]
  },
  {
   "cell_type": "code",
   "execution_count": null,
   "id": "3e7068e8-8d8b-4fbe-93cd-14e6a88a0234",
   "metadata": {},
   "outputs": [],
   "source": [
    "import pandas as pd\n",
    "import matplotlib.pyplot as plt\n",
    "import numpy as np\n",
    "from scipy.fft import rfft, rfftfreq\n",
    "from scipy import signal\n",
    "from scipy.signal import savgol_filter"
   ]
  },
  {
   "cell_type": "markdown",
   "id": "73a6eaac-d0a1-4815-a831-1c28f9fcc67a",
   "metadata": {},
   "source": [
    "# Read in the data"
   ]
  },
  {
   "cell_type": "code",
   "execution_count": null,
   "id": "e91f8cd8-2458-4ba5-9bf9-b8310a84f23c",
   "metadata": {},
   "outputs": [],
   "source": [
    "un_pred = pd.read_csv('/Users/saral/OneDrive - UBC/MDS/Capstone/Code + Data/Data/Raw Data Predictors/Unsuccessful.csv')\n",
    "ecd_pred = pd.read_csv('/Users/saral/OneDrive - UBC/MDS/Capstone/Code + Data/Data/Raw Data Predictors/ECD.csv')\n",
    "ecd_ts = pd.read_csv('/Users/saral/OneDrive - UBC/MDS/Capstone/Code + Data/Data/Time Series/ECDTS/ECD_TS.csv')\n",
    "un_ts = pd.read_csv('/Users/saral/OneDrive - UBC/MDS/Capstone/Code + Data/Data/Time Series/unsuccesful time series/US_TS.csv')\n",
    "B = pd.read_csv('/Users/saral/OneDrive - UBC/MDS/Capstone/Code + Data/Data/ECD_A2_all.csv')"
   ]
  },
  {
   "cell_type": "markdown",
   "id": "f33912f7-d619-4df2-877b-328ed3747ff4",
   "metadata": {
    "tags": []
   },
   "source": [
    "# Plot the raw waveforms"
   ]
  },
  {
   "cell_type": "code",
   "execution_count": null,
   "id": "95649cc9-7b98-4c3c-9d56-d5536540da27",
   "metadata": {},
   "outputs": [],
   "source": [
    "loc = 69"
   ]
  },
  {
   "cell_type": "code",
   "execution_count": null,
   "id": "cf44ec8f-3117-41e0-837c-59f39ddaa39b",
   "metadata": {},
   "outputs": [],
   "source": [
    "ide = ecd_ts['TestId'][loc]"
   ]
  },
  {
   "cell_type": "code",
   "execution_count": null,
   "id": "8641ab0f-ec09-4388-9d38-53f1300b1f65",
   "metadata": {},
   "outputs": [],
   "source": [
    "t = np.arange(0.2, 300.2, 0.2) -  ecd_pred[ecd_pred['TestID'] == ide]['SampleDetectTime'].item()\n",
    "s = plt.plot(t, ecd_ts[ecd_ts['TestId'] == ide].iloc[0,1:], c = 'r')\n",
    "plt.title('Raw Entire A Reading')\n",
    "plt.xlabel('Index w.r.t. sample detect time')\n",
    "plt.ylabel('Signal')"
   ]
  },
  {
   "cell_type": "code",
   "execution_count": null,
   "id": "d5290f47-3468-4a46-9daa-8903b92a16bf",
   "metadata": {},
   "outputs": [],
   "source": [
    "s = plt.plot(t, B[B['TestId'] == ide].iloc[:,2:].transpose())\n",
    "plt.xlabel('index w.r.t sample detection')\n",
    "plt.title('Raw Entire B Reading')\n",
    "plt.xlabel('Index w.r.t. sample detect time')\n",
    "plt.ylabel('Signal')"
   ]
  },
  {
   "cell_type": "markdown",
   "id": "8a29da77-c28d-4f7d-96ae-da898fc8beea",
   "metadata": {},
   "source": [
    "# Define Period of time w.r.t sample detect to ingnore wet-up"
   ]
  },
  {
   "cell_type": "code",
   "execution_count": null,
   "id": "ef5f03d9-33bc-4f38-b5d4-e311d1565438",
   "metadata": {},
   "outputs": [],
   "source": [
    "sample_start = int(ecd_pred[ecd_pred['TestID'] == ide]['SampleDetectTime'].item()/0.2)"
   ]
  },
  {
   "cell_type": "code",
   "execution_count": null,
   "id": "4256aa89-d56a-49fd-8d44-c2707fe5e6aa",
   "metadata": {},
   "outputs": [],
   "source": [
    "cal_start = int(-30/0.2)\n",
    "cal_end = int(40/0.2)"
   ]
  },
  {
   "cell_type": "code",
   "execution_count": null,
   "id": "2645b146-8445-4352-acc3-4ba18bd13e3c",
   "metadata": {},
   "outputs": [],
   "source": [
    "B_cal = B[B['TestId'] == ide].iloc[:, sample_start + cal_start + 2:sample_start+cal_end+2]\n",
    "A_cal = ecd_ts[ecd_ts['TestId'] == ide].iloc[:, sample_start + cal_start + 1 :sample_start+cal_end+1]"
   ]
  },
  {
   "cell_type": "markdown",
   "id": "3ce1d48f-1cff-4659-b317-46da19576459",
   "metadata": {},
   "source": [
    "# Plot Waveforms without wet-up"
   ]
  },
  {
   "cell_type": "code",
   "execution_count": null,
   "id": "18eba43f-3b09-4e7a-b1c3-4c58bcea787f",
   "metadata": {},
   "outputs": [],
   "source": [
    "x = np.arange(cal_start, cal_end)\n",
    "t = plt.plot(x*0.2, B_cal.transpose())\n",
    "plt.title('Raw B Reading without wet-up')\n",
    "plt.xlabel('Index w.r.t. sample detect time')\n",
    "plt.ylabel('Signal')"
   ]
  },
  {
   "cell_type": "code",
   "execution_count": null,
   "id": "7686fa03-dfa5-48fc-9962-78c04bba0b26",
   "metadata": {},
   "outputs": [],
   "source": [
    "t = plt.plot(x*0.2, A_cal.transpose(), c = 'r')\n",
    "plt.title('Raw A Reading without wet-up')\n",
    "plt.xlabel('Index w.r.t. sample detect time')\n",
    "plt.ylabel('Signal')"
   ]
  },
  {
   "cell_type": "code",
   "execution_count": null,
   "id": "55d9959b-dd4b-424d-96bc-7972e3528f92",
   "metadata": {},
   "outputs": [],
   "source": [
    "t = plt.plot(x*0.2, B_cal.transpose(), label = 'B')\n",
    "t = plt.plot(x*0.2, A_cal.transpose(), c = 'r', label = 'A')\n",
    "plt.legend()\n",
    "plt.title(\"Raw readings with wet-up removed, overlayed\")\n",
    "plt.ylabel('signal')\n",
    "plt.xlabel('Index w.r.t. sample detect time')"
   ]
  },
  {
   "cell_type": "markdown",
   "id": "2d9331df-b40c-4e9c-942a-8a11cab035c9",
   "metadata": {},
   "source": [
    "# Try normalizing the signals and plot them (scale so shape is retained but all values are between 0 and 1)"
   ]
  },
  {
   "cell_type": "code",
   "execution_count": null,
   "id": "8aee98b1-ac2e-4d3d-977c-fadd48f080a2",
   "metadata": {},
   "outputs": [],
   "source": [
    "if A_cal.max(axis = 1).item() != A_cal.min(axis = 1).item():\n",
    "    A_norm = (A_cal - A_cal.min(axis = 1).item() )/ (A_cal.max(axis = 1).item() - A_cal.min(axis = 1).item())\n",
    "else:\n",
    "    A_norm = A_cal\n",
    "B_norm = (B_cal - B_cal.min(axis = 1).item() )/ (B_cal.max(axis = 1).item() - B_cal.min(axis = 1).item())"
   ]
  },
  {
   "cell_type": "code",
   "execution_count": null,
   "id": "5481f3aa-fcb7-454c-9db0-c248b800fae9",
   "metadata": {},
   "outputs": [],
   "source": []
  },
  {
   "cell_type": "code",
   "execution_count": null,
   "id": "bb693cef-c5b4-4d2c-8266-6a52cfa91d18",
   "metadata": {},
   "outputs": [],
   "source": [
    "A_norm"
   ]
  },
  {
   "cell_type": "code",
   "execution_count": null,
   "id": "3f609ce8-d1e5-4e30-bf2d-e8419f5dcd17",
   "metadata": {},
   "outputs": [],
   "source": [
    "plt.plot(x, A_norm.transpose(), c = 'r', label = 'A')\n",
    "plt.plot(x, B_norm.transpose(), c = 'b', label = 'B')\n",
    "plt.title(\"Normalized readings with wet-up removed, overlayed\")\n",
    "plt.ylabel('normalized signal')\n",
    "plt.xlabel('Index w.r.t. sample detect time')\n",
    "plt.legend()"
   ]
  },
  {
   "cell_type": "markdown",
   "id": "ae2feb35-3d37-4ebe-9d1b-afe732b32b4e",
   "metadata": {},
   "source": [
    "# Convolution with tsmoothie"
   ]
  },
  {
   "cell_type": "code",
   "execution_count": null,
   "id": "41336e0a-ef7a-405d-a384-f0b27239b70e",
   "metadata": {},
   "outputs": [],
   "source": [
    "from tsmoothie.smoother import *\n",
    "\n",
    "# operate smoothing\n",
    "smoother = ConvolutionSmoother(window_len=50, window_type='bartlett')\n",
    "smoother.smooth(A_norm.transpose().iloc[:,0].to_numpy())\n",
    "\n",
    "# generate intervals\n",
    "low, up = smoother.get_intervals('sigma_interval', n_sigma=3)\n",
    "\n",
    "# plot the smoothed timeseries with intervals\n",
    "plt.figure(figsize=(11,6))\n",
    "plt.plot(smoother.data[0], color='orange')\n",
    "plt.plot(smoother.smooth_data[0], linewidth=3, color='blue')\n",
    "plt.fill_between(range(len(smoother.data[0])), low[0], up[0], alpha=0.3)"
   ]
  },
  {
   "cell_type": "code",
   "execution_count": null,
   "id": "8de00e20-9958-4537-b7f3-872d73af729b",
   "metadata": {},
   "outputs": [],
   "source": [
    "f, ps = signal.periodogram(smoother.smooth_data[0], 5)\n",
    "f_g, ps_g = signal.periodogram(B_norm.transpose().iloc[:,0].to_numpy(), 5)"
   ]
  },
  {
   "cell_type": "markdown",
   "id": "81b4e394-e59b-4cdf-9521-c13c1e773a0e",
   "metadata": {},
   "source": [
    "Use a periodogram to estimate the power spectrum density. This allows us to see how much of the signal occurs at different frequency and will hopefully give an idea of whether we have effectively reduced noise (assumed to be higher frequency activity)"
   ]
  },
  {
   "cell_type": "code",
   "execution_count": null,
   "id": "6390933a-afc2-41d5-bf9b-ccb79788d6e4",
   "metadata": {},
   "outputs": [],
   "source": [
    "plt.plot(f_g, ps_g, label = 'B')\n",
    "plt.plot(f, ps, label = 'filtered A')\n",
    "plt.legend()\n",
    "plt.title('Overlayed PSD Estimations')\n",
    "plt.xlabel('Hz')\n",
    "plt.ylabel('power')"
   ]
  },
  {
   "cell_type": "code",
   "execution_count": null,
   "id": "92eff47b-7359-4360-bda8-ad7204bf7f55",
   "metadata": {},
   "outputs": [],
   "source": [
    "plt.plot(np.arange(-30,40,0.2), smoother.data[0], color='orange', alpha = 0.3, label = 'A')\n",
    "plt.plot(np.arange(-30,40,0.2), smoother.smooth_data[0], color='orange', label = 'smoothed A' )\n",
    "plt.plot(np.arange(-30,40,0.2), B_norm.transpose().iloc[:,0].to_numpy(), label = \"B\")\n",
    "plt.legend()"
   ]
  }
 ],
 "metadata": {
  "kernelspec": {
   "display_name": "Python 3 (ipykernel)",
   "language": "python",
   "name": "python3"
  },
  "language_info": {
   "codemirror_mode": {
    "name": "ipython",
    "version": 3
   },
   "file_extension": ".py",
   "mimetype": "text/x-python",
   "name": "python",
   "nbconvert_exporter": "python",
   "pygments_lexer": "ipython3",
   "version": "3.9.9"
  }
 },
 "nbformat": 4,
 "nbformat_minor": 5
}
